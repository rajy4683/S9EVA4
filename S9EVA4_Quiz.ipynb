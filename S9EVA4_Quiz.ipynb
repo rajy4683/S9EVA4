{
  "nbformat": 4,
  "nbformat_minor": 0,
  "metadata": {
    "colab": {
      "name": "S9EVA4_Quiz.ipynb",
      "provenance": [],
      "collapsed_sections": [],
      "include_colab_link": true
    },
    "kernelspec": {
      "name": "python3",
      "display_name": "Python 3"
    },
    "accelerator": "GPU"
  },
  "cells": [
    {
      "cell_type": "markdown",
      "metadata": {
        "id": "view-in-github",
        "colab_type": "text"
      },
      "source": [
        "<a href=\"https://colab.research.google.com/github/rajy4683/S9EVA4/blob/master/S9EVA4_Quiz.ipynb\" target=\"_parent\"><img src=\"https://colab.research.google.com/assets/colab-badge.svg\" alt=\"Open In Colab\"/></a>"
      ]
    },
    {
      "cell_type": "code",
      "metadata": {
        "id": "wHBAkK9aQmiN",
        "colab_type": "code",
        "colab": {
          "base_uri": "https://localhost:8080/",
          "height": 34
        },
        "outputId": "13950a73-12b6-49f3-da48-80b748b29e05"
      },
      "source": [
        "from datetime import datetime \n",
        "print(\"Current Date/Time: \", datetime.now())"
      ],
      "execution_count": 4,
      "outputs": [
        {
          "output_type": "stream",
          "text": [
            "Current Date/Time:  2020-03-17 16:41:46.573364\n"
          ],
          "name": "stdout"
        }
      ]
    },
    {
      "cell_type": "code",
      "metadata": {
        "id": "TkeUIDcSJXUE",
        "colab_type": "code",
        "outputId": "8eb58b48-a5b7-4546-aae6-29b7751e131a",
        "colab": {
          "base_uri": "https://localhost:8080/",
          "height": 34
        }
      },
      "source": [
        "from google.colab import drive\n",
        "drive.mount('/content/drive')\n",
        "import sys"
      ],
      "execution_count": 5,
      "outputs": [
        {
          "output_type": "stream",
          "text": [
            "Drive already mounted at /content/drive; to attempt to forcibly remount, call drive.mount(\"/content/drive\", force_remount=True).\n"
          ],
          "name": "stdout"
        }
      ]
    },
    {
      "cell_type": "markdown",
      "metadata": {
        "id": "gQc6tVsEMKsk",
        "colab_type": "text"
      },
      "source": [
        "\n",
        "### **[RekogNizer library](https://github.com/rajy4683/RekogNizer.git) contains the following files:**\n",
        "```\n",
        "1. basemodelclass.py:   Contains core model definitions. \n",
        "2. fileutils.py:        Contains utility functions for model_name_generation, plotting functions \n",
        "3. dataloader.py:       Contains dataloaders for both training and test data\n",
        "4. traintest.py:        Contains core training, test and model execution flow routines. \n",
        "5. logger.py:           Contains functions to handle WANDB integration\n",
        "6. hyperparams.py:      Contains values of default hyperparameters alongwith getter and setter functions   \n",
        "7. train_s7_new.py:     Main wrapper script or point of entry. It parses hyperparameters as arguments\n",
        "8. requirements.txt:    Specific libraries that need to be available in the environment\n",
        "```\n",
        "\n",
        "\n",
        "\n",
        "\n",
        "\n",
        "\n"
      ]
    },
    {
      "cell_type": "markdown",
      "metadata": {
        "id": "p5sd4efFT2AF",
        "colab_type": "text"
      },
      "source": [
        "#### Downloading and installing dependencies from the GitHub link:\n"
      ]
    },
    {
      "cell_type": "code",
      "metadata": {
        "id": "-u1pUWK8PGHF",
        "colab_type": "code",
        "colab": {}
      },
      "source": [
        "!git clone https://github.com/rajy4683/RekogNizer.git /content/drive/My\\ Drive/EVA4/RekogNizer"
      ],
      "execution_count": 0,
      "outputs": []
    },
    {
      "cell_type": "code",
      "metadata": {
        "id": "M5CIVlNHJeJI",
        "colab_type": "code",
        "outputId": "7e04fe71-3282-433f-89a5-8915e8346185",
        "colab": {
          "base_uri": "https://localhost:8080/",
          "height": 1000
        }
      },
      "source": [
        "!pip install -r /content/drive/My\\ Drive/EVA4/RekogNizer/requirements.txt"
      ],
      "execution_count": 6,
      "outputs": [
        {
          "output_type": "stream",
          "text": [
            "Collecting pytorch-ignite\n",
            "\u001b[?25l  Downloading https://files.pythonhosted.org/packages/35/55/41e8a995876fd2ade29bdba0c3efefa38e7d605cb353c70f3173c04928b5/pytorch_ignite-0.3.0-py2.py3-none-any.whl (103kB)\n",
            "\r\u001b[K     |███▏                            | 10kB 20.5MB/s eta 0:00:01\r\u001b[K     |██████▎                         | 20kB 1.8MB/s eta 0:00:01\r\u001b[K     |█████████▌                      | 30kB 2.6MB/s eta 0:00:01\r\u001b[K     |████████████▋                   | 40kB 1.7MB/s eta 0:00:01\r\u001b[K     |███████████████▉                | 51kB 2.1MB/s eta 0:00:01\r\u001b[K     |███████████████████             | 61kB 2.5MB/s eta 0:00:01\r\u001b[K     |██████████████████████▏         | 71kB 2.9MB/s eta 0:00:01\r\u001b[K     |█████████████████████████▎      | 81kB 3.3MB/s eta 0:00:01\r\u001b[K     |████████████████████████████▍   | 92kB 3.7MB/s eta 0:00:01\r\u001b[K     |███████████████████████████████▋| 102kB 2.8MB/s eta 0:00:01\r\u001b[K     |████████████████████████████████| 112kB 2.8MB/s \n",
            "\u001b[?25hRequirement already satisfied: torchsummary in /usr/local/lib/python3.6/dist-packages (from -r /content/drive/My Drive/EVA4/RekogNizer/requirements.txt (line 2)) (1.5.1)\n",
            "Collecting wandb\n",
            "\u001b[?25l  Downloading https://files.pythonhosted.org/packages/45/05/a0bf45b2f4909c3ffb1729deb19355a067a8cf8d56eebd3159d702321b68/wandb-0.8.29-py2.py3-none-any.whl (1.4MB)\n",
            "\u001b[K     |████████████████████████████████| 1.4MB 44.0MB/s \n",
            "\u001b[?25hRequirement already satisfied: numpy in /usr/local/lib/python3.6/dist-packages (from -r /content/drive/My Drive/EVA4/RekogNizer/requirements.txt (line 5)) (1.18.1)\n",
            "Requirement already satisfied: torch in /usr/local/lib/python3.6/dist-packages (from -r /content/drive/My Drive/EVA4/RekogNizer/requirements.txt (line 6)) (1.4.0)\n",
            "Requirement already satisfied: torchvision in /usr/local/lib/python3.6/dist-packages (from -r /content/drive/My Drive/EVA4/RekogNizer/requirements.txt (line 7)) (0.5.0)\n",
            "Requirement already satisfied: matplotlib in /usr/local/lib/python3.6/dist-packages (from -r /content/drive/My Drive/EVA4/RekogNizer/requirements.txt (line 8)) (3.2.0)\n",
            "Requirement already satisfied: albumentations in /usr/local/lib/python3.6/dist-packages (from -r /content/drive/My Drive/EVA4/RekogNizer/requirements.txt (line 9)) (0.1.12)\n",
            "Requirement already satisfied: Click>=7.0 in /usr/local/lib/python3.6/dist-packages (from wandb->-r /content/drive/My Drive/EVA4/RekogNizer/requirements.txt (line 3)) (7.1.1)\n",
            "Collecting gql==0.2.0\n",
            "  Downloading https://files.pythonhosted.org/packages/c4/6f/cf9a3056045518f06184e804bae89390eb706168349daa9dff8ac609962a/gql-0.2.0.tar.gz\n",
            "Collecting GitPython>=1.0.0\n",
            "\u001b[?25l  Downloading https://files.pythonhosted.org/packages/d3/2f/6a366d56c9b1355b0880be9ea66b166cb3536392638d8d91413ec66305ad/GitPython-3.1.0-py3-none-any.whl (450kB)\n",
            "\u001b[K     |████████████████████████████████| 460kB 51.8MB/s \n",
            "\u001b[?25hRequirement already satisfied: nvidia-ml-py3>=7.352.0 in /usr/local/lib/python3.6/dist-packages (from wandb->-r /content/drive/My Drive/EVA4/RekogNizer/requirements.txt (line 3)) (7.352.0)\n",
            "Collecting watchdog>=0.8.3\n",
            "\u001b[?25l  Downloading https://files.pythonhosted.org/packages/73/c3/ed6d992006837e011baca89476a4bbffb0a91602432f73bd4473816c76e2/watchdog-0.10.2.tar.gz (95kB)\n",
            "\u001b[K     |████████████████████████████████| 102kB 13.6MB/s \n",
            "\u001b[?25hRequirement already satisfied: requests>=2.0.0 in /usr/local/lib/python3.6/dist-packages (from wandb->-r /content/drive/My Drive/EVA4/RekogNizer/requirements.txt (line 3)) (2.21.0)\n",
            "Requirement already satisfied: PyYAML>=3.10 in /usr/local/lib/python3.6/dist-packages (from wandb->-r /content/drive/My Drive/EVA4/RekogNizer/requirements.txt (line 3)) (3.13)\n",
            "Collecting subprocess32>=3.5.3\n",
            "\u001b[?25l  Downloading https://files.pythonhosted.org/packages/32/c8/564be4d12629b912ea431f1a50eb8b3b9d00f1a0b1ceff17f266be190007/subprocess32-3.5.4.tar.gz (97kB)\n",
            "\u001b[K     |████████████████████████████████| 102kB 12.5MB/s \n",
            "\u001b[?25hCollecting configparser>=3.8.1\n",
            "  Downloading https://files.pythonhosted.org/packages/7a/2a/95ed0501cf5d8709490b1d3a3f9b5cf340da6c433f896bbe9ce08dbe6785/configparser-4.0.2-py2.py3-none-any.whl\n",
            "Collecting sentry-sdk>=0.4.0\n",
            "\u001b[?25l  Downloading https://files.pythonhosted.org/packages/8e/e6/058c2dc4723b3647a8cf61385c61f284bfbd0d0657bc5623c22e9ef45a3c/sentry_sdk-0.14.2-py2.py3-none-any.whl (96kB)\n",
            "\u001b[K     |████████████████████████████████| 102kB 11.9MB/s \n",
            "\u001b[?25hRequirement already satisfied: six>=1.10.0 in /usr/local/lib/python3.6/dist-packages (from wandb->-r /content/drive/My Drive/EVA4/RekogNizer/requirements.txt (line 3)) (1.12.0)\n",
            "Requirement already satisfied: psutil>=5.0.0 in /usr/local/lib/python3.6/dist-packages (from wandb->-r /content/drive/My Drive/EVA4/RekogNizer/requirements.txt (line 3)) (5.4.8)\n",
            "Collecting shortuuid>=0.5.0\n",
            "  Downloading https://files.pythonhosted.org/packages/25/a6/2ecc1daa6a304e7f1b216f0896b26156b78e7c38e1211e9b798b4716c53d/shortuuid-1.0.1-py3-none-any.whl\n",
            "Collecting docker-pycreds>=0.4.0\n",
            "  Downloading https://files.pythonhosted.org/packages/f5/e8/f6bd1eee09314e7e6dee49cbe2c5e22314ccdb38db16c9fc72d2fa80d054/docker_pycreds-0.4.0-py2.py3-none-any.whl\n",
            "Requirement already satisfied: python-dateutil>=2.6.1 in /usr/local/lib/python3.6/dist-packages (from wandb->-r /content/drive/My Drive/EVA4/RekogNizer/requirements.txt (line 3)) (2.8.1)\n",
            "Requirement already satisfied: pillow>=4.1.1 in /usr/local/lib/python3.6/dist-packages (from torchvision->-r /content/drive/My Drive/EVA4/RekogNizer/requirements.txt (line 7)) (7.0.0)\n",
            "Requirement already satisfied: cycler>=0.10 in /usr/local/lib/python3.6/dist-packages (from matplotlib->-r /content/drive/My Drive/EVA4/RekogNizer/requirements.txt (line 8)) (0.10.0)\n",
            "Requirement already satisfied: kiwisolver>=1.0.1 in /usr/local/lib/python3.6/dist-packages (from matplotlib->-r /content/drive/My Drive/EVA4/RekogNizer/requirements.txt (line 8)) (1.1.0)\n",
            "Requirement already satisfied: pyparsing!=2.0.4,!=2.1.2,!=2.1.6,>=2.0.1 in /usr/local/lib/python3.6/dist-packages (from matplotlib->-r /content/drive/My Drive/EVA4/RekogNizer/requirements.txt (line 8)) (2.4.6)\n",
            "Collecting imgaug<0.2.7,>=0.2.5\n",
            "\u001b[?25l  Downloading https://files.pythonhosted.org/packages/ad/2e/748dbb7bb52ec8667098bae9b585f448569ae520031932687761165419a2/imgaug-0.2.6.tar.gz (631kB)\n",
            "\u001b[K     |████████████████████████████████| 634kB 38.2MB/s \n",
            "\u001b[?25hRequirement already satisfied: opencv-python in /usr/local/lib/python3.6/dist-packages (from albumentations->-r /content/drive/My Drive/EVA4/RekogNizer/requirements.txt (line 9)) (4.1.2.30)\n",
            "Requirement already satisfied: scipy in /usr/local/lib/python3.6/dist-packages (from albumentations->-r /content/drive/My Drive/EVA4/RekogNizer/requirements.txt (line 9)) (1.4.1)\n",
            "Collecting graphql-core<2,>=0.5.0\n",
            "\u001b[?25l  Downloading https://files.pythonhosted.org/packages/b0/89/00ad5e07524d8c523b14d70c685e0299a8b0de6d0727e368c41b89b7ed0b/graphql-core-1.1.tar.gz (70kB)\n",
            "\u001b[K     |████████████████████████████████| 71kB 9.8MB/s \n",
            "\u001b[?25hRequirement already satisfied: promise<3,>=2.0 in /usr/local/lib/python3.6/dist-packages (from gql==0.2.0->wandb->-r /content/drive/My Drive/EVA4/RekogNizer/requirements.txt (line 3)) (2.3)\n",
            "Collecting gitdb<5,>=4.0.1\n",
            "\u001b[?25l  Downloading https://files.pythonhosted.org/packages/1e/f5/8f84b3bf9d94bdf2454a302f2fa375832b53660ea532586b8a55ff16ae9a/gitdb-4.0.2-py3-none-any.whl (63kB)\n",
            "\u001b[K     |████████████████████████████████| 71kB 11.0MB/s \n",
            "\u001b[?25hCollecting pathtools>=0.1.1\n",
            "  Downloading https://files.pythonhosted.org/packages/e7/7f/470d6fcdf23f9f3518f6b0b76be9df16dcc8630ad409947f8be2eb0ed13a/pathtools-0.1.2.tar.gz\n",
            "Requirement already satisfied: chardet<3.1.0,>=3.0.2 in /usr/local/lib/python3.6/dist-packages (from requests>=2.0.0->wandb->-r /content/drive/My Drive/EVA4/RekogNizer/requirements.txt (line 3)) (3.0.4)\n",
            "Requirement already satisfied: idna<2.9,>=2.5 in /usr/local/lib/python3.6/dist-packages (from requests>=2.0.0->wandb->-r /content/drive/My Drive/EVA4/RekogNizer/requirements.txt (line 3)) (2.8)\n",
            "Requirement already satisfied: urllib3<1.25,>=1.21.1 in /usr/local/lib/python3.6/dist-packages (from requests>=2.0.0->wandb->-r /content/drive/My Drive/EVA4/RekogNizer/requirements.txt (line 3)) (1.24.3)\n",
            "Requirement already satisfied: certifi>=2017.4.17 in /usr/local/lib/python3.6/dist-packages (from requests>=2.0.0->wandb->-r /content/drive/My Drive/EVA4/RekogNizer/requirements.txt (line 3)) (2019.11.28)\n",
            "Requirement already satisfied: setuptools in /usr/local/lib/python3.6/dist-packages (from kiwisolver>=1.0.1->matplotlib->-r /content/drive/My Drive/EVA4/RekogNizer/requirements.txt (line 8)) (45.2.0)\n",
            "Requirement already satisfied: scikit-image>=0.11.0 in /usr/local/lib/python3.6/dist-packages (from imgaug<0.2.7,>=0.2.5->albumentations->-r /content/drive/My Drive/EVA4/RekogNizer/requirements.txt (line 9)) (0.16.2)\n",
            "Collecting smmap<4,>=3.0.1\n",
            "  Downloading https://files.pythonhosted.org/packages/35/d2/27777ab463cd44842c78305fa8097dfba0d94768abbb7e1c4d88f1fa1a0b/smmap-3.0.1-py2.py3-none-any.whl\n",
            "Requirement already satisfied: PyWavelets>=0.4.0 in /usr/local/lib/python3.6/dist-packages (from scikit-image>=0.11.0->imgaug<0.2.7,>=0.2.5->albumentations->-r /content/drive/My Drive/EVA4/RekogNizer/requirements.txt (line 9)) (1.1.1)\n",
            "Requirement already satisfied: networkx>=2.0 in /usr/local/lib/python3.6/dist-packages (from scikit-image>=0.11.0->imgaug<0.2.7,>=0.2.5->albumentations->-r /content/drive/My Drive/EVA4/RekogNizer/requirements.txt (line 9)) (2.4)\n",
            "Requirement already satisfied: imageio>=2.3.0 in /usr/local/lib/python3.6/dist-packages (from scikit-image>=0.11.0->imgaug<0.2.7,>=0.2.5->albumentations->-r /content/drive/My Drive/EVA4/RekogNizer/requirements.txt (line 9)) (2.4.1)\n",
            "Requirement already satisfied: decorator>=4.3.0 in /usr/local/lib/python3.6/dist-packages (from networkx>=2.0->scikit-image>=0.11.0->imgaug<0.2.7,>=0.2.5->albumentations->-r /content/drive/My Drive/EVA4/RekogNizer/requirements.txt (line 9)) (4.4.2)\n",
            "Building wheels for collected packages: gql, watchdog, subprocess32, imgaug, graphql-core, pathtools\n",
            "  Building wheel for gql (setup.py) ... \u001b[?25l\u001b[?25hdone\n",
            "  Created wheel for gql: filename=gql-0.2.0-cp36-none-any.whl size=7630 sha256=98f1c5bba4e7e64e8156c8101411dfd5e5ac7de6107ce3a592922bf024ee7afe\n",
            "  Stored in directory: /root/.cache/pip/wheels/ce/0e/7b/58a8a5268655b3ad74feef5aa97946f0addafb3cbb6bd2da23\n",
            "  Building wheel for watchdog (setup.py) ... \u001b[?25l\u001b[?25hdone\n",
            "  Created wheel for watchdog: filename=watchdog-0.10.2-cp36-none-any.whl size=73605 sha256=f1b941e6eae4dfd3dc845e07af84d7a6f1bf41ed3eb106f08dea5fce08161564\n",
            "  Stored in directory: /root/.cache/pip/wheels/bc/ed/6c/028dea90d31b359cd2a7c8b0da4db80e41d24a59614154072e\n",
            "  Building wheel for subprocess32 (setup.py) ... \u001b[?25l\u001b[?25hdone\n",
            "  Created wheel for subprocess32: filename=subprocess32-3.5.4-cp36-none-any.whl size=6489 sha256=21abc9b6075b3fb21ad18df058ec23aa50783671a891a037db2bd18c041e9ccb\n",
            "  Stored in directory: /root/.cache/pip/wheels/68/39/1a/5e402bdfdf004af1786c8b853fd92f8c4a04f22aad179654d1\n",
            "  Building wheel for imgaug (setup.py) ... \u001b[?25l\u001b[?25hdone\n",
            "  Created wheel for imgaug: filename=imgaug-0.2.6-cp36-none-any.whl size=654020 sha256=6877066c48223e7f5b4816d7f906379f784b6e105b836c40b6c3cfc4d68e5b24\n",
            "  Stored in directory: /root/.cache/pip/wheels/97/ec/48/0d25896c417b715af6236dbcef8f0bed136a1a5e52972fc6d0\n",
            "  Building wheel for graphql-core (setup.py) ... \u001b[?25l\u001b[?25hdone\n",
            "  Created wheel for graphql-core: filename=graphql_core-1.1-cp36-none-any.whl size=104650 sha256=45297bed062cc1da834122141e6b142c5fdd0a6876a35e57c6da47c1f90a4b29\n",
            "  Stored in directory: /root/.cache/pip/wheels/45/99/d7/c424029bb0fe910c63b68dbf2aa20d3283d023042521bcd7d5\n",
            "  Building wheel for pathtools (setup.py) ... \u001b[?25l\u001b[?25hdone\n",
            "  Created wheel for pathtools: filename=pathtools-0.1.2-cp36-none-any.whl size=8784 sha256=bd25ee876b9218effd9d44cbfc76e4db49d6d7c35315e6c517d5c2b2d28dcd4c\n",
            "  Stored in directory: /root/.cache/pip/wheels/0b/04/79/c3b0c3a0266a3cb4376da31e5bfe8bba0c489246968a68e843\n",
            "Successfully built gql watchdog subprocess32 imgaug graphql-core pathtools\n",
            "Installing collected packages: pytorch-ignite, graphql-core, gql, smmap, gitdb, GitPython, pathtools, watchdog, subprocess32, configparser, sentry-sdk, shortuuid, docker-pycreds, wandb, imgaug\n",
            "  Found existing installation: imgaug 0.2.9\n",
            "    Uninstalling imgaug-0.2.9:\n",
            "      Successfully uninstalled imgaug-0.2.9\n",
            "Successfully installed GitPython-3.1.0 configparser-4.0.2 docker-pycreds-0.4.0 gitdb-4.0.2 gql-0.2.0 graphql-core-1.1 imgaug-0.2.6 pathtools-0.1.2 pytorch-ignite-0.3.0 sentry-sdk-0.14.2 shortuuid-1.0.1 smmap-3.0.1 subprocess32-3.5.4 wandb-0.8.29 watchdog-0.10.2\n"
          ],
          "name": "stdout"
        }
      ]
    },
    {
      "cell_type": "code",
      "metadata": {
        "id": "hfblgxgzgYN4",
        "colab_type": "code",
        "outputId": "31bdfe55-ba35-4fcc-cfba-909f59d66654",
        "colab": {
          "base_uri": "https://localhost:8080/",
          "height": 558
        }
      },
      "source": [
        "!pip install -U git+https://github.com/albu/albumentations"
      ],
      "execution_count": 7,
      "outputs": [
        {
          "output_type": "stream",
          "text": [
            "Collecting git+https://github.com/albu/albumentations\n",
            "  Cloning https://github.com/albu/albumentations to /tmp/pip-req-build-big4ppfp\n",
            "  Running command git clone -q https://github.com/albu/albumentations /tmp/pip-req-build-big4ppfp\n",
            "Requirement already satisfied, skipping upgrade: numpy>=1.11.1 in /usr/local/lib/python3.6/dist-packages (from albumentations==0.4.5) (1.18.1)\n",
            "Requirement already satisfied, skipping upgrade: scipy in /usr/local/lib/python3.6/dist-packages (from albumentations==0.4.5) (1.4.1)\n",
            "Requirement already satisfied, skipping upgrade: imgaug<0.2.7,>=0.2.5 in /usr/local/lib/python3.6/dist-packages (from albumentations==0.4.5) (0.2.6)\n",
            "Requirement already satisfied, skipping upgrade: PyYAML in /usr/local/lib/python3.6/dist-packages (from albumentations==0.4.5) (3.13)\n",
            "Requirement already satisfied, skipping upgrade: opencv-python>=4.1.1 in /usr/local/lib/python3.6/dist-packages (from albumentations==0.4.5) (4.1.2.30)\n",
            "Requirement already satisfied, skipping upgrade: scikit-image>=0.11.0 in /usr/local/lib/python3.6/dist-packages (from imgaug<0.2.7,>=0.2.5->albumentations==0.4.5) (0.16.2)\n",
            "Requirement already satisfied, skipping upgrade: six in /usr/local/lib/python3.6/dist-packages (from imgaug<0.2.7,>=0.2.5->albumentations==0.4.5) (1.12.0)\n",
            "Requirement already satisfied, skipping upgrade: pillow>=4.3.0 in /usr/local/lib/python3.6/dist-packages (from scikit-image>=0.11.0->imgaug<0.2.7,>=0.2.5->albumentations==0.4.5) (7.0.0)\n",
            "Requirement already satisfied, skipping upgrade: matplotlib!=3.0.0,>=2.0.0 in /usr/local/lib/python3.6/dist-packages (from scikit-image>=0.11.0->imgaug<0.2.7,>=0.2.5->albumentations==0.4.5) (3.2.0)\n",
            "Requirement already satisfied, skipping upgrade: imageio>=2.3.0 in /usr/local/lib/python3.6/dist-packages (from scikit-image>=0.11.0->imgaug<0.2.7,>=0.2.5->albumentations==0.4.5) (2.4.1)\n",
            "Requirement already satisfied, skipping upgrade: PyWavelets>=0.4.0 in /usr/local/lib/python3.6/dist-packages (from scikit-image>=0.11.0->imgaug<0.2.7,>=0.2.5->albumentations==0.4.5) (1.1.1)\n",
            "Requirement already satisfied, skipping upgrade: networkx>=2.0 in /usr/local/lib/python3.6/dist-packages (from scikit-image>=0.11.0->imgaug<0.2.7,>=0.2.5->albumentations==0.4.5) (2.4)\n",
            "Requirement already satisfied, skipping upgrade: cycler>=0.10 in /usr/local/lib/python3.6/dist-packages (from matplotlib!=3.0.0,>=2.0.0->scikit-image>=0.11.0->imgaug<0.2.7,>=0.2.5->albumentations==0.4.5) (0.10.0)\n",
            "Requirement already satisfied, skipping upgrade: kiwisolver>=1.0.1 in /usr/local/lib/python3.6/dist-packages (from matplotlib!=3.0.0,>=2.0.0->scikit-image>=0.11.0->imgaug<0.2.7,>=0.2.5->albumentations==0.4.5) (1.1.0)\n",
            "Requirement already satisfied, skipping upgrade: pyparsing!=2.0.4,!=2.1.2,!=2.1.6,>=2.0.1 in /usr/local/lib/python3.6/dist-packages (from matplotlib!=3.0.0,>=2.0.0->scikit-image>=0.11.0->imgaug<0.2.7,>=0.2.5->albumentations==0.4.5) (2.4.6)\n",
            "Requirement already satisfied, skipping upgrade: python-dateutil>=2.1 in /usr/local/lib/python3.6/dist-packages (from matplotlib!=3.0.0,>=2.0.0->scikit-image>=0.11.0->imgaug<0.2.7,>=0.2.5->albumentations==0.4.5) (2.8.1)\n",
            "Requirement already satisfied, skipping upgrade: decorator>=4.3.0 in /usr/local/lib/python3.6/dist-packages (from networkx>=2.0->scikit-image>=0.11.0->imgaug<0.2.7,>=0.2.5->albumentations==0.4.5) (4.4.2)\n",
            "Requirement already satisfied, skipping upgrade: setuptools in /usr/local/lib/python3.6/dist-packages (from kiwisolver>=1.0.1->matplotlib!=3.0.0,>=2.0.0->scikit-image>=0.11.0->imgaug<0.2.7,>=0.2.5->albumentations==0.4.5) (45.2.0)\n",
            "Building wheels for collected packages: albumentations\n",
            "  Building wheel for albumentations (setup.py) ... \u001b[?25l\u001b[?25hdone\n",
            "  Created wheel for albumentations: filename=albumentations-0.4.5-cp36-none-any.whl size=64514 sha256=1dc9575158bc03589cf19500ed73c773e02d77f6cd3ec6e7ad079eef9673791f\n",
            "  Stored in directory: /tmp/pip-ephem-wheel-cache-ittnbiu7/wheels/45/8b/e4/2837bbcf517d00732b8e394f8646f22b8723ac00993230188b\n",
            "Successfully built albumentations\n",
            "Installing collected packages: albumentations\n",
            "  Found existing installation: albumentations 0.1.12\n",
            "    Uninstalling albumentations-0.1.12:\n",
            "      Successfully uninstalled albumentations-0.1.12\n",
            "Successfully installed albumentations-0.4.5\n"
          ],
          "name": "stdout"
        }
      ]
    },
    {
      "cell_type": "code",
      "metadata": {
        "id": "u7HkockSqqMe",
        "colab_type": "code",
        "outputId": "17c000ad-745d-44e3-c08f-63ee80ce95bc",
        "colab": {
          "base_uri": "https://localhost:8080/",
          "height": 188
        }
      },
      "source": [
        "!pip install --upgrade pyforest"
      ],
      "execution_count": 8,
      "outputs": [
        {
          "output_type": "stream",
          "text": [
            "Collecting pyforest\n",
            "  Downloading https://files.pythonhosted.org/packages/ac/c3/ae8976c2c281c69aef2a615e8e3e6ce8c0b401c55dd68c50911d0d532b3b/pyforest-1.0.2.tar.gz\n",
            "Building wheels for collected packages: pyforest\n",
            "  Building wheel for pyforest (setup.py) ... \u001b[?25l\u001b[?25hdone\n",
            "  Created wheel for pyforest: filename=pyforest-1.0.2-py2.py3-none-any.whl size=13556 sha256=f7f31b7e07e16248d312f2d0276f7eed0bc9656465c4b0fa9e93d25833b8d141\n",
            "  Stored in directory: /root/.cache/pip/wheels/e2/1b/b1/f7ff0a6aee79ec158aea4a339d7bd722deb261f65d8c9968c2\n",
            "Successfully built pyforest\n",
            "Installing collected packages: pyforest\n",
            "Successfully installed pyforest-1.0.2\n"
          ],
          "name": "stdout"
        }
      ]
    },
    {
      "cell_type": "code",
      "metadata": {
        "id": "8xUymEZyqufL",
        "colab_type": "code",
        "outputId": "b848458c-ecea-44c7-a4ea-423fcfd9319e",
        "colab": {
          "base_uri": "https://localhost:8080/",
          "height": 218
        }
      },
      "source": [
        "!python -m pyforest install_extensions"
      ],
      "execution_count": 0,
      "outputs": [
        {
          "output_type": "stream",
          "text": [
            "Starting to install pyforest extensions for Jupyter Notebook and Jupyter Lab\n",
            "\n",
            "Trying to install pyforest nbextension...\n",
            "\n",
            "Finished installing the pyforest Jupyter Notebook nbextension\n",
            "Please reload your Jupyter notebook browser window\n",
            "\n",
            "Trying to install pyforest labextension...\n",
            "Could not install pyforest Jupyter Lab extension because Jupyter Lab is not available\n",
            "\n",
            "Finished installing the pyforest Jupyter extensions\n",
            "Please reload your Jupyter notebook and/or Jupyter lab browser windows\n"
          ],
          "name": "stdout"
        }
      ]
    },
    {
      "cell_type": "markdown",
      "metadata": {
        "id": "meia7p02UJE8",
        "colab_type": "text"
      },
      "source": [
        "#### WANDB client login"
      ]
    },
    {
      "cell_type": "code",
      "metadata": {
        "id": "Hi9SBc2TKUF3",
        "colab_type": "code",
        "outputId": "98a46cc6-de83-4c72-cbbb-f83839404a4d",
        "colab": {
          "base_uri": "https://localhost:8080/",
          "height": 50
        }
      },
      "source": [
        "!wandb login a6f947d2d2f69e7a8c8ca0f69811fd554f27d204"
      ],
      "execution_count": 9,
      "outputs": [
        {
          "output_type": "stream",
          "text": [
            "\u001b[34m\u001b[1mwandb\u001b[0m: Appending key for api.wandb.ai to your netrc file: /root/.netrc\n",
            "\u001b[32mSuccessfully logged in to Weights & Biases!\u001b[0m\n"
          ],
          "name": "stdout"
        }
      ]
    },
    {
      "cell_type": "code",
      "metadata": {
        "id": "yFb9EtN4KdDD",
        "colab_type": "code",
        "colab": {}
      },
      "source": [
        "sys.path.append('/content/drive/My Drive/EVA4/')\n",
        "sys.path.append('/content/drive/My Drive/EVA4/RekogNizer')"
      ],
      "execution_count": 0,
      "outputs": []
    },
    {
      "cell_type": "code",
      "metadata": {
        "id": "3OfqGcVevk70",
        "colab_type": "code",
        "colab": {}
      },
      "source": [
        "#!cp /content/drive/My\\ Drive/EVA4/RekogNizer/train_s8_new.py /content/drive/My\\ Drive/EVA4/RekogNizer/train_s9_new.py"
      ],
      "execution_count": 0,
      "outputs": []
    },
    {
      "cell_type": "markdown",
      "metadata": {
        "id": "VaRJ9X1FVHxH",
        "colab_type": "text"
      },
      "source": [
        "train_s8_new.py currently can take JSON formatted string as input. Following parameters are configurable and are used in the model training and execution.\n",
        "```\n",
        "{\"project\": \"news5\", \n",
        " \"sched_lr_gamma\": 0.5, \n",
        " \"no_cuda\": false, \n",
        " \"dropout\": 0.1, \n",
        " \"test_batch_size\": 128, \n",
        " \"batch_size\": 128, \n",
        " \"epochs\": 45, \n",
        " \"bias\": false, \n",
        " \"lr\": 0.001, \n",
        " \"start_lr\": 0, \n",
        " \"sched_lr_step\": 1, \n",
        " \"weight_decay\": 0.0, \n",
        " \"seed\": 1, \n",
        " \"momentum\": 0.9}\n",
        "\n",
        "```\n"
      ]
    },
    {
      "cell_type": "code",
      "metadata": {
        "id": "Z6cgY-URcar_",
        "colab_type": "code",
        "colab": {}
      },
      "source": [
        "sys.path.append('/content/drive/My Drive/EVA4/')\n",
        "sys.path.append('/content/drive/My Drive/EVA4/RekogNizer')"
      ],
      "execution_count": 0,
      "outputs": []
    },
    {
      "cell_type": "code",
      "metadata": {
        "id": "O6Mbw0QScb1L",
        "colab_type": "code",
        "colab": {
          "base_uri": "https://localhost:8080/",
          "height": 50
        },
        "outputId": "4dab18fa-7e9a-4e19-9e51-8f71d4db40cc"
      },
      "source": [
        "!wandb login a6f947d2d2f69e7a8c8ca0f69811fd554f27d204"
      ],
      "execution_count": 13,
      "outputs": [
        {
          "output_type": "stream",
          "text": [
            "\u001b[34m\u001b[1mwandb\u001b[0m: Appending key for api.wandb.ai to your netrc file: /root/.netrc\n",
            "\u001b[32mSuccessfully logged in to Weights & Biases!\u001b[0m\n"
          ],
          "name": "stdout"
        }
      ]
    },
    {
      "cell_type": "code",
      "metadata": {
        "id": "TYI_ilefb7MT",
        "colab_type": "code",
        "colab": {
          "base_uri": "https://localhost:8080/",
          "height": 50
        },
        "outputId": "8136c546-82d8-4375-9374-8464db4559bc"
      },
      "source": [
        "%load_ext autoreload\n",
        "%autoreload 2\n",
        "from RekogNizer import hyperparams\n",
        "from RekogNizer import basemodelclass\n",
        "from RekogNizer import fileutils\n",
        "from RekogNizer import dataloader\n",
        "from RekogNizer import traintest\n",
        "from RekogNizer import logger\n",
        "from RekogNizer import QuizDNN\n",
        "from torchsummary import summary\n",
        "import torch\n",
        "import torch.optim as optim\n",
        "import torch.nn as nn\n",
        "import argparse\n",
        "import json\n",
        "import torchvision.transforms as transforms\n",
        "import torchvision\n",
        "from albumentations import (\n",
        "    HorizontalFlip, Compose, RandomCrop, Cutout,Normalize, HorizontalFlip, \n",
        "    Resize,RandomSizedCrop, MotionBlur\n",
        ")\n",
        "from albumentations.pytorch import ToTensor\n",
        "import numpy as np"
      ],
      "execution_count": 29,
      "outputs": [
        {
          "output_type": "stream",
          "text": [
            "The autoreload extension is already loaded. To reload it, use:\n",
            "  %reload_ext autoreload\n"
          ],
          "name": "stdout"
        }
      ]
    },
    {
      "cell_type": "code",
      "metadata": {
        "id": "yFBEQd8bfe5F",
        "colab_type": "code",
        "colab": {
          "base_uri": "https://localhost:8080/",
          "height": 605
        },
        "outputId": "d1a3ba5b-5180-401b-e983-0b0d5780d195"
      },
      "source": [
        "from torchsummary import summary\n",
        "my_model = QuizDNN.S9QuizDNN(dropout=0.1)\n",
        "summary(my_model.to(torch.device(\"cuda\")),input_size=(3, 32, 32))"
      ],
      "execution_count": 56,
      "outputs": [
        {
          "output_type": "stream",
          "text": [
            "----------------------------------------------------------------\n",
            "        Layer (type)               Output Shape         Param #\n",
            "================================================================\n",
            "            Conv2d-1           [-1, 64, 32, 32]             192\n",
            "       BatchNorm2d-2           [-1, 64, 32, 32]             128\n",
            "            Conv2d-3           [-1, 64, 32, 32]           1,728\n",
            "       BatchNorm2d-4           [-1, 64, 32, 32]             128\n",
            "            Conv2d-5           [-1, 64, 32, 32]          36,864\n",
            "       BatchNorm2d-6           [-1, 64, 32, 32]             128\n",
            "         MaxPool2d-7           [-1, 64, 16, 16]               0\n",
            "            Conv2d-8           [-1, 64, 16, 16]          36,864\n",
            "       BatchNorm2d-9           [-1, 64, 16, 16]             128\n",
            "           Conv2d-10           [-1, 64, 16, 16]          36,864\n",
            "      BatchNorm2d-11           [-1, 64, 16, 16]             128\n",
            "           Conv2d-12           [-1, 64, 16, 16]          36,864\n",
            "      BatchNorm2d-13           [-1, 64, 16, 16]             128\n",
            "        MaxPool2d-14             [-1, 64, 8, 8]               0\n",
            "           Conv2d-15             [-1, 64, 8, 8]          36,864\n",
            "      BatchNorm2d-16             [-1, 64, 8, 8]             128\n",
            "           Conv2d-17             [-1, 64, 8, 8]          36,864\n",
            "      BatchNorm2d-18             [-1, 64, 8, 8]             128\n",
            "           Conv2d-19             [-1, 64, 8, 8]          36,864\n",
            "      BatchNorm2d-20             [-1, 64, 8, 8]             128\n",
            "AdaptiveAvgPool2d-21             [-1, 64, 1, 1]               0\n",
            "           Conv2d-22             [-1, 10, 1, 1]             640\n",
            "================================================================\n",
            "Total params: 261,760\n",
            "Trainable params: 261,760\n",
            "Non-trainable params: 0\n",
            "----------------------------------------------------------------\n",
            "Input size (MB): 0.01\n",
            "Forward/backward pass size (MB): 4.09\n",
            "Params size (MB): 1.00\n",
            "Estimated Total Size (MB): 5.10\n",
            "----------------------------------------------------------------\n"
          ],
          "name": "stdout"
        }
      ]
    },
    {
      "cell_type": "code",
      "metadata": {
        "id": "SeULShEmgAxr",
        "colab_type": "code",
        "colab": {
          "base_uri": "https://localhost:8080/",
          "height": 1000
        },
        "outputId": "33cc9558-256e-4a3b-e43a-23bb7dead4f3"
      },
      "source": [
        "!python /content/drive/My\\ Drive/EVA4/RekogNizer/train_s9_new.py -p '{\"lr\":0.5,\"dropout\":0.1, \"momentum\":0.9, \"epochs\":100, \"weight_decay\":0.00015753761358641488}'"
      ],
      "execution_count": 0,
      "outputs": [
        {
          "output_type": "stream",
          "text": [
            "Setting  lr  =  0.5\n",
            "Setting  dropout  =  0.1\n",
            "Setting  momentum  =  0.9\n",
            "Setting  epochs  =  100\n",
            "Setting  weight_decay  =  0.00015753761358641488\n",
            "Final Hyperparameters\n",
            "             dropout : 0.1 \n",
            "          batch_size : 128 \n",
            "     test_batch_size : 128 \n",
            "                  lr : 0.5 \n",
            "            momentum : 0.9 \n",
            "             no_cuda : False \n",
            "                seed : 1 \n",
            "              epochs : 100 \n",
            "                bias : False \n",
            "      sched_lr_gamma : 0.5 \n",
            "       sched_lr_step : 1 \n",
            "            start_lr : 0 \n",
            "        weight_decay : 0.00015753761358641488 \n",
            "             project : news5 \n",
            "Initializing datasets and dataloaders\n",
            "Files already downloaded and verified\n",
            "Files already downloaded and verified\n",
            "\u001b[34m\u001b[1mwandb\u001b[0m: Tracking run with wandb version 0.8.29\n",
            "\u001b[34m\u001b[1mwandb\u001b[0m: Run data is saved locally in wandb/run-20200317_175642-o15roav2\n",
            "\u001b[34m\u001b[1mwandb\u001b[0m: Syncing run \u001b[33mtrim-dawn-866\u001b[0m\n",
            "\u001b[34m\u001b[1mwandb\u001b[0m: ⭐️ View project at \u001b[34m\u001b[4mhttps://app.wandb.ai/rajy4683/news5\u001b[0m\n",
            "\u001b[34m\u001b[1mwandb\u001b[0m: 🚀 View run at \u001b[34m\u001b[4mhttps://app.wandb.ai/rajy4683/news5/runs/o15roav2\u001b[0m\n",
            "\u001b[34m\u001b[1mwandb\u001b[0m: Run `wandb off` to turn off syncing.\n",
            "\n",
            "Model saved to:  /content/drive/My Drive/EVA4/model_saves/model-142fc9afe6.h5\n",
            "Hyper Params:\n",
            "wandb_version: 1\n",
            "\n",
            "_wandb:\n",
            "  desc: null\n",
            "  value:\n",
            "    cli_version: 0.8.29\n",
            "    code_path: code/drive/My Drive/EVA4/RekogNizer/train_s9_new.py\n",
            "    framework: torch\n",
            "    is_jupyter_run: false\n",
            "    python_version: 3.6.9\n",
            "batch_size:\n",
            "  desc: null\n",
            "  value: 128\n",
            "bias:\n",
            "  desc: null\n",
            "  value: false\n",
            "dropout:\n",
            "  desc: null\n",
            "  value: 0.1\n",
            "epochs:\n",
            "  desc: null\n",
            "  value: 100\n",
            "lr:\n",
            "  desc: null\n",
            "  value: 0.5\n",
            "momentum:\n",
            "  desc: null\n",
            "  value: 0.9\n",
            "no_cuda:\n",
            "  desc: null\n",
            "  value: false\n",
            "project:\n",
            "  desc: null\n",
            "  value: news5\n",
            "run_name:\n",
            "  desc: null\n",
            "  value: 142fc9afe6\n",
            "sched_lr_gamma:\n",
            "  desc: null\n",
            "  value: 0.5\n",
            "sched_lr_step:\n",
            "  desc: null\n",
            "  value: 1\n",
            "seed:\n",
            "  desc: null\n",
            "  value: 1\n",
            "start_lr:\n",
            "  desc: null\n",
            "  value: 0\n",
            "test_batch_size:\n",
            "  desc: null\n",
            "  value: 128\n",
            "weight_decay:\n",
            "  desc: null\n",
            "  value: 0.00015753761358641488\n",
            "\n",
            "----------------------------------------------------------------\n",
            "        Layer (type)               Output Shape         Param #\n",
            "================================================================\n",
            "            Conv2d-1           [-1, 64, 32, 32]             192\n",
            "            Conv2d-2           [-1, 64, 32, 32]           1,728\n",
            "       BatchNorm2d-3           [-1, 64, 32, 32]             128\n",
            "            Conv2d-4           [-1, 64, 32, 32]          36,864\n",
            "       BatchNorm2d-5           [-1, 64, 32, 32]             128\n",
            "         MaxPool2d-6           [-1, 64, 16, 16]               0\n",
            "            Conv2d-7           [-1, 64, 16, 16]          36,864\n",
            "       BatchNorm2d-8           [-1, 64, 16, 16]             128\n",
            "            Conv2d-9           [-1, 64, 16, 16]          36,864\n",
            "      BatchNorm2d-10           [-1, 64, 16, 16]             128\n",
            "           Conv2d-11           [-1, 64, 16, 16]          36,864\n",
            "      BatchNorm2d-12           [-1, 64, 16, 16]             128\n",
            "        MaxPool2d-13             [-1, 64, 8, 8]               0\n",
            "           Conv2d-14             [-1, 64, 8, 8]          36,864\n",
            "      BatchNorm2d-15             [-1, 64, 8, 8]             128\n",
            "           Conv2d-16             [-1, 64, 8, 8]          36,864\n",
            "      BatchNorm2d-17             [-1, 64, 8, 8]             128\n",
            "           Conv2d-18             [-1, 64, 8, 8]          36,864\n",
            "      BatchNorm2d-19             [-1, 64, 8, 8]             128\n",
            "AdaptiveAvgPool2d-20             [-1, 64, 1, 1]               0\n",
            "           Conv2d-21             [-1, 10, 1, 1]             640\n",
            "================================================================\n",
            "Total params: 261,632\n",
            "Trainable params: 261,632\n",
            "Non-trainable params: 0\n",
            "----------------------------------------------------------------\n",
            "Input size (MB): 0.01\n",
            "Forward/backward pass size (MB): 3.59\n",
            "Params size (MB): 1.00\n",
            "Estimated Total Size (MB): 4.60\n",
            "----------------------------------------------------------------\n",
            "loss=0.8970732688903809 batch_id=390: 100%|███| 391/391 [00:32<00:00, 11.93it/s]\n",
            "\n",
            "Epoch: 1 Train set: Average loss: 0.0110, Accuracy: 48.712%\n",
            "Epoch: 1 Test set: Average loss: 1.8605, Accuracy: 41.660%\n",
            "Model saved as Test Accuracy increased from  0.0  to  41.66\n",
            "loss=0.7106155157089233 batch_id=390: 100%|███| 391/391 [00:32<00:00, 12.83it/s]\n",
            "\n",
            "Epoch: 2 Train set: Average loss: 0.0073, Accuracy: 66.874%\n",
            "Epoch: 2 Test set: Average loss: 2.5719, Accuracy: 29.870%\n",
            "loss=0.5959306359291077 batch_id=390: 100%|███| 391/391 [00:32<00:00, 12.75it/s]\n",
            "\n",
            "Epoch: 3 Train set: Average loss: 0.0058, Accuracy: 73.974%\n",
            "Epoch: 3 Test set: Average loss: 1.8607, Accuracy: 43.190%\n",
            "Model saved as Test Accuracy increased from  41.66  to  43.19\n",
            "loss=0.7504519820213318 batch_id=390: 100%|███| 391/391 [00:32<00:00, 12.64it/s]\n",
            "\n",
            "Epoch: 4 Train set: Average loss: 0.0050, Accuracy: 77.662%\n",
            "Epoch: 4 Test set: Average loss: 1.6444, Accuracy: 47.420%\n",
            "Model saved as Test Accuracy increased from  43.19  to  47.42\n",
            "loss=0.69169682264328 batch_id=390: 100%|█████| 391/391 [00:32<00:00, 12.80it/s]\n",
            "\n",
            "Epoch: 5 Train set: Average loss: 0.0046, Accuracy: 79.824%\n",
            "Epoch: 5 Test set: Average loss: 2.4871, Accuracy: 33.850%\n",
            "loss=0.4194743037223816 batch_id=390: 100%|███| 391/391 [00:32<00:00, 12.78it/s]\n",
            "\n",
            "Epoch: 6 Train set: Average loss: 0.0041, Accuracy: 81.890%\n",
            "Epoch: 6 Test set: Average loss: 1.1014, Accuracy: 61.470%\n",
            "Model saved as Test Accuracy increased from  47.42  to  61.47\n",
            "loss=0.675879955291748 batch_id=390: 100%|████| 391/391 [00:32<00:00, 12.79it/s]\n",
            "\n",
            "Epoch: 7 Train set: Average loss: 0.0036, Accuracy: 84.160%\n",
            "Epoch: 7 Test set: Average loss: 1.8516, Accuracy: 47.580%\n",
            "loss=0.38342130184173584 batch_id=390: 100%|██| 391/391 [00:32<00:00, 12.82it/s]\n",
            "\n",
            "Epoch: 8 Train set: Average loss: 0.0031, Accuracy: 86.336%\n",
            "Epoch: 8 Test set: Average loss: 1.1883, Accuracy: 60.550%\n",
            "loss=0.20130491256713867 batch_id=390: 100%|██| 391/391 [00:32<00:00, 12.79it/s]\n",
            "\n",
            "Epoch: 9 Train set: Average loss: 0.0026, Accuracy: 88.742%\n",
            "Epoch: 9 Test set: Average loss: 1.1933, Accuracy: 58.450%\n",
            "loss=0.24157199263572693 batch_id=390: 100%|██| 391/391 [00:32<00:00, 12.79it/s]\n",
            "\n",
            "Epoch: 10 Train set: Average loss: 0.0017, Accuracy: 92.348%\n",
            "Epoch: 10 Test set: Average loss: 0.9580, Accuracy: 67.420%\n",
            "Model saved as Test Accuracy increased from  61.47  to  67.42\n",
            "loss=0.1947641372680664 batch_id=390: 100%|███| 391/391 [00:32<00:00, 12.63it/s]\n",
            "\n",
            "Epoch: 11 Train set: Average loss: 0.0012, Accuracy: 95.296%\n",
            "Epoch: 11 Test set: Average loss: 1.4890, Accuracy: 55.280%\n",
            "loss=0.21512214839458466 batch_id=175:  45%|▉ | 175/391 [00:14<00:17, 12.26it/s]"
          ],
          "name": "stdout"
        }
      ]
    },
    {
      "cell_type": "code",
      "metadata": {
        "id": "6CULo3aCkKWr",
        "colab_type": "code",
        "colab": {}
      },
      "source": [
        ""
      ],
      "execution_count": 0,
      "outputs": []
    }
  ]
}