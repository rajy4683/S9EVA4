{
  "nbformat": 4,
  "nbformat_minor": 0,
  "metadata": {
    "colab": {
      "name": "S9EVA4_SingleScript1.ipynb",
      "provenance": [],
      "collapsed_sections": [],
      "include_colab_link": true
    },
    "kernelspec": {
      "name": "python3",
      "display_name": "Python 3"
    },
    "accelerator": "GPU"
  },
  "cells": [
    {
      "cell_type": "markdown",
      "metadata": {
        "id": "view-in-github",
        "colab_type": "text"
      },
      "source": [
        "<a href=\"https://colab.research.google.com/github/rajy4683/S9EVA4/blob/master/S9EVA4_SingleScript1.ipynb\" target=\"_parent\"><img src=\"https://colab.research.google.com/assets/colab-badge.svg\" alt=\"Open In Colab\"/></a>"
      ]
    },
    {
      "cell_type": "code",
      "metadata": {
        "id": "TkeUIDcSJXUE",
        "colab_type": "code",
        "outputId": "f83f989b-32d0-4618-b140-bdc9928c65d8",
        "colab": {
          "base_uri": "https://localhost:8080/",
          "height": 34
        }
      },
      "source": [
        "from google.colab import drive\n",
        "drive.mount('/content/drive')\n",
        "import sys"
      ],
      "execution_count": 15,
      "outputs": [
        {
          "output_type": "stream",
          "text": [
            "Drive already mounted at /content/drive; to attempt to forcibly remount, call drive.mount(\"/content/drive\", force_remount=True).\n"
          ],
          "name": "stdout"
        }
      ]
    },
    {
      "cell_type": "markdown",
      "metadata": {
        "id": "gQc6tVsEMKsk",
        "colab_type": "text"
      },
      "source": [
        "\n",
        "### **[RekogNizer library](https://github.com/rajy4683/RekogNizer.git) contains the following files:**\n",
        "```\n",
        "1. basemodelclass.py:   Contains core model definitions. \n",
        "2. fileutils.py:        Contains utility functions for model_name_generation, plotting functions \n",
        "3. dataloader.py:       Contains dataloaders for both training and test data\n",
        "4. traintest.py:        Contains core training, test and model execution flow routines. \n",
        "5. logger.py:           Contains functions to handle WANDB integration\n",
        "6. hyperparams.py:      Contains values of default hyperparameters alongwith getter and setter functions   \n",
        "7. train_s7_new.py:     Main wrapper script or point of entry. It parses hyperparameters as arguments\n",
        "8. requirements.txt:    Specific libraries that need to be available in the environment\n",
        "```\n",
        "\n",
        "\n",
        "\n",
        "\n",
        "\n",
        "\n"
      ]
    },
    {
      "cell_type": "markdown",
      "metadata": {
        "id": "p5sd4efFT2AF",
        "colab_type": "text"
      },
      "source": [
        "#### Downloading and installing dependencies from the GitHub link:\n"
      ]
    },
    {
      "cell_type": "code",
      "metadata": {
        "id": "-u1pUWK8PGHF",
        "colab_type": "code",
        "colab": {}
      },
      "source": [
        "!git clone https://github.com/rajy4683/RekogNizer.git /content/drive/My\\ Drive/EVA4/RekogNizer"
      ],
      "execution_count": 0,
      "outputs": []
    },
    {
      "cell_type": "code",
      "metadata": {
        "id": "M5CIVlNHJeJI",
        "colab_type": "code",
        "outputId": "02ba969b-77ac-4115-a33a-eec013aa99ad",
        "colab": {
          "base_uri": "https://localhost:8080/",
          "height": 793
        }
      },
      "source": [
        "!pip install -r /content/drive/My\\ Drive/EVA4/RekogNizer/requirements.txt"
      ],
      "execution_count": 16,
      "outputs": [
        {
          "output_type": "stream",
          "text": [
            "Requirement already satisfied: pytorch-ignite in /usr/local/lib/python3.6/dist-packages (from -r /content/drive/My Drive/EVA4/RekogNizer/requirements.txt (line 1)) (0.3.0)\n",
            "Requirement already satisfied: torchsummary in /usr/local/lib/python3.6/dist-packages (from -r /content/drive/My Drive/EVA4/RekogNizer/requirements.txt (line 2)) (1.5.1)\n",
            "Requirement already satisfied: wandb in /usr/local/lib/python3.6/dist-packages (from -r /content/drive/My Drive/EVA4/RekogNizer/requirements.txt (line 3)) (0.8.29)\n",
            "Requirement already satisfied: numpy in /usr/local/lib/python3.6/dist-packages (from -r /content/drive/My Drive/EVA4/RekogNizer/requirements.txt (line 5)) (1.17.5)\n",
            "Requirement already satisfied: torch in /usr/local/lib/python3.6/dist-packages (from -r /content/drive/My Drive/EVA4/RekogNizer/requirements.txt (line 6)) (1.4.0)\n",
            "Requirement already satisfied: torchvision in /usr/local/lib/python3.6/dist-packages (from -r /content/drive/My Drive/EVA4/RekogNizer/requirements.txt (line 7)) (0.5.0)\n",
            "Requirement already satisfied: matplotlib in /usr/local/lib/python3.6/dist-packages (from -r /content/drive/My Drive/EVA4/RekogNizer/requirements.txt (line 8)) (3.1.3)\n",
            "Requirement already satisfied: albumentations in /usr/local/lib/python3.6/dist-packages (from -r /content/drive/My Drive/EVA4/RekogNizer/requirements.txt (line 9)) (0.4.5)\n",
            "Requirement already satisfied: configparser>=3.8.1 in /usr/local/lib/python3.6/dist-packages (from wandb->-r /content/drive/My Drive/EVA4/RekogNizer/requirements.txt (line 3)) (4.0.2)\n",
            "Requirement already satisfied: gql==0.2.0 in /usr/local/lib/python3.6/dist-packages (from wandb->-r /content/drive/My Drive/EVA4/RekogNizer/requirements.txt (line 3)) (0.2.0)\n",
            "Requirement already satisfied: psutil>=5.0.0 in /usr/local/lib/python3.6/dist-packages (from wandb->-r /content/drive/My Drive/EVA4/RekogNizer/requirements.txt (line 3)) (5.4.8)\n",
            "Requirement already satisfied: watchdog>=0.8.3 in /usr/local/lib/python3.6/dist-packages (from wandb->-r /content/drive/My Drive/EVA4/RekogNizer/requirements.txt (line 3)) (0.10.2)\n",
            "Requirement already satisfied: sentry-sdk>=0.4.0 in /usr/local/lib/python3.6/dist-packages (from wandb->-r /content/drive/My Drive/EVA4/RekogNizer/requirements.txt (line 3)) (0.14.2)\n",
            "Requirement already satisfied: shortuuid>=0.5.0 in /usr/local/lib/python3.6/dist-packages (from wandb->-r /content/drive/My Drive/EVA4/RekogNizer/requirements.txt (line 3)) (1.0.1)\n",
            "Requirement already satisfied: GitPython>=1.0.0 in /usr/local/lib/python3.6/dist-packages (from wandb->-r /content/drive/My Drive/EVA4/RekogNizer/requirements.txt (line 3)) (3.1.0)\n",
            "Requirement already satisfied: python-dateutil>=2.6.1 in /usr/local/lib/python3.6/dist-packages (from wandb->-r /content/drive/My Drive/EVA4/RekogNizer/requirements.txt (line 3)) (2.6.1)\n",
            "Requirement already satisfied: subprocess32>=3.5.3 in /usr/local/lib/python3.6/dist-packages (from wandb->-r /content/drive/My Drive/EVA4/RekogNizer/requirements.txt (line 3)) (3.5.4)\n",
            "Requirement already satisfied: docker-pycreds>=0.4.0 in /usr/local/lib/python3.6/dist-packages (from wandb->-r /content/drive/My Drive/EVA4/RekogNizer/requirements.txt (line 3)) (0.4.0)\n",
            "Requirement already satisfied: PyYAML>=3.10 in /usr/local/lib/python3.6/dist-packages (from wandb->-r /content/drive/My Drive/EVA4/RekogNizer/requirements.txt (line 3)) (3.13)\n",
            "Requirement already satisfied: requests>=2.0.0 in /usr/local/lib/python3.6/dist-packages (from wandb->-r /content/drive/My Drive/EVA4/RekogNizer/requirements.txt (line 3)) (2.21.0)\n",
            "Requirement already satisfied: Click>=7.0 in /usr/local/lib/python3.6/dist-packages (from wandb->-r /content/drive/My Drive/EVA4/RekogNizer/requirements.txt (line 3)) (7.0)\n",
            "Requirement already satisfied: nvidia-ml-py3>=7.352.0 in /usr/local/lib/python3.6/dist-packages (from wandb->-r /content/drive/My Drive/EVA4/RekogNizer/requirements.txt (line 3)) (7.352.0)\n",
            "Requirement already satisfied: six>=1.10.0 in /usr/local/lib/python3.6/dist-packages (from wandb->-r /content/drive/My Drive/EVA4/RekogNizer/requirements.txt (line 3)) (1.12.0)\n",
            "Requirement already satisfied: pillow>=4.1.1 in /usr/local/lib/python3.6/dist-packages (from torchvision->-r /content/drive/My Drive/EVA4/RekogNizer/requirements.txt (line 7)) (6.2.2)\n",
            "Requirement already satisfied: kiwisolver>=1.0.1 in /usr/local/lib/python3.6/dist-packages (from matplotlib->-r /content/drive/My Drive/EVA4/RekogNizer/requirements.txt (line 8)) (1.1.0)\n",
            "Requirement already satisfied: pyparsing!=2.0.4,!=2.1.2,!=2.1.6,>=2.0.1 in /usr/local/lib/python3.6/dist-packages (from matplotlib->-r /content/drive/My Drive/EVA4/RekogNizer/requirements.txt (line 8)) (2.4.6)\n",
            "Requirement already satisfied: cycler>=0.10 in /usr/local/lib/python3.6/dist-packages (from matplotlib->-r /content/drive/My Drive/EVA4/RekogNizer/requirements.txt (line 8)) (0.10.0)\n",
            "Requirement already satisfied: scipy in /usr/local/lib/python3.6/dist-packages (from albumentations->-r /content/drive/My Drive/EVA4/RekogNizer/requirements.txt (line 9)) (1.4.1)\n",
            "Requirement already satisfied: imgaug<0.2.7,>=0.2.5 in /usr/local/lib/python3.6/dist-packages (from albumentations->-r /content/drive/My Drive/EVA4/RekogNizer/requirements.txt (line 9)) (0.2.6)\n",
            "Requirement already satisfied: opencv-python>=4.1.1 in /usr/local/lib/python3.6/dist-packages (from albumentations->-r /content/drive/My Drive/EVA4/RekogNizer/requirements.txt (line 9)) (4.1.2.30)\n",
            "Requirement already satisfied: graphql-core<2,>=0.5.0 in /usr/local/lib/python3.6/dist-packages (from gql==0.2.0->wandb->-r /content/drive/My Drive/EVA4/RekogNizer/requirements.txt (line 3)) (1.1)\n",
            "Requirement already satisfied: promise<3,>=2.0 in /usr/local/lib/python3.6/dist-packages (from gql==0.2.0->wandb->-r /content/drive/My Drive/EVA4/RekogNizer/requirements.txt (line 3)) (2.3)\n",
            "Requirement already satisfied: pathtools>=0.1.1 in /usr/local/lib/python3.6/dist-packages (from watchdog>=0.8.3->wandb->-r /content/drive/My Drive/EVA4/RekogNizer/requirements.txt (line 3)) (0.1.2)\n",
            "Requirement already satisfied: urllib3>=1.10.0 in /usr/local/lib/python3.6/dist-packages (from sentry-sdk>=0.4.0->wandb->-r /content/drive/My Drive/EVA4/RekogNizer/requirements.txt (line 3)) (1.24.3)\n",
            "Requirement already satisfied: certifi in /usr/local/lib/python3.6/dist-packages (from sentry-sdk>=0.4.0->wandb->-r /content/drive/My Drive/EVA4/RekogNizer/requirements.txt (line 3)) (2019.11.28)\n",
            "Requirement already satisfied: gitdb<5,>=4.0.1 in /usr/local/lib/python3.6/dist-packages (from GitPython>=1.0.0->wandb->-r /content/drive/My Drive/EVA4/RekogNizer/requirements.txt (line 3)) (4.0.2)\n",
            "Requirement already satisfied: idna<2.9,>=2.5 in /usr/local/lib/python3.6/dist-packages (from requests>=2.0.0->wandb->-r /content/drive/My Drive/EVA4/RekogNizer/requirements.txt (line 3)) (2.8)\n",
            "Requirement already satisfied: chardet<3.1.0,>=3.0.2 in /usr/local/lib/python3.6/dist-packages (from requests>=2.0.0->wandb->-r /content/drive/My Drive/EVA4/RekogNizer/requirements.txt (line 3)) (3.0.4)\n",
            "Requirement already satisfied: setuptools in /usr/local/lib/python3.6/dist-packages (from kiwisolver>=1.0.1->matplotlib->-r /content/drive/My Drive/EVA4/RekogNizer/requirements.txt (line 8)) (45.2.0)\n",
            "Requirement already satisfied: scikit-image>=0.11.0 in /usr/local/lib/python3.6/dist-packages (from imgaug<0.2.7,>=0.2.5->albumentations->-r /content/drive/My Drive/EVA4/RekogNizer/requirements.txt (line 9)) (0.16.2)\n",
            "Requirement already satisfied: smmap<4,>=3.0.1 in /usr/local/lib/python3.6/dist-packages (from gitdb<5,>=4.0.1->GitPython>=1.0.0->wandb->-r /content/drive/My Drive/EVA4/RekogNizer/requirements.txt (line 3)) (3.0.1)\n",
            "Requirement already satisfied: imageio>=2.3.0 in /usr/local/lib/python3.6/dist-packages (from scikit-image>=0.11.0->imgaug<0.2.7,>=0.2.5->albumentations->-r /content/drive/My Drive/EVA4/RekogNizer/requirements.txt (line 9)) (2.4.1)\n",
            "Requirement already satisfied: networkx>=2.0 in /usr/local/lib/python3.6/dist-packages (from scikit-image>=0.11.0->imgaug<0.2.7,>=0.2.5->albumentations->-r /content/drive/My Drive/EVA4/RekogNizer/requirements.txt (line 9)) (2.4)\n",
            "Requirement already satisfied: PyWavelets>=0.4.0 in /usr/local/lib/python3.6/dist-packages (from scikit-image>=0.11.0->imgaug<0.2.7,>=0.2.5->albumentations->-r /content/drive/My Drive/EVA4/RekogNizer/requirements.txt (line 9)) (1.1.1)\n",
            "Requirement already satisfied: decorator>=4.3.0 in /usr/local/lib/python3.6/dist-packages (from networkx>=2.0->scikit-image>=0.11.0->imgaug<0.2.7,>=0.2.5->albumentations->-r /content/drive/My Drive/EVA4/RekogNizer/requirements.txt (line 9)) (4.4.1)\n"
          ],
          "name": "stdout"
        }
      ]
    },
    {
      "cell_type": "code",
      "metadata": {
        "id": "hfblgxgzgYN4",
        "colab_type": "code",
        "colab": {
          "base_uri": "https://localhost:8080/",
          "height": 558
        },
        "outputId": "c1e91d03-3369-4c33-9fa8-e1c147a8f7c3"
      },
      "source": [
        "!pip install -U git+https://github.com/albu/albumentations"
      ],
      "execution_count": 17,
      "outputs": [
        {
          "output_type": "stream",
          "text": [
            "Collecting git+https://github.com/albu/albumentations\n",
            "  Cloning https://github.com/albu/albumentations to /tmp/pip-req-build-84tg56ss\n",
            "  Running command git clone -q https://github.com/albu/albumentations /tmp/pip-req-build-84tg56ss\n",
            "Requirement already satisfied, skipping upgrade: numpy>=1.11.1 in /usr/local/lib/python3.6/dist-packages (from albumentations==0.4.5) (1.17.5)\n",
            "Requirement already satisfied, skipping upgrade: scipy in /usr/local/lib/python3.6/dist-packages (from albumentations==0.4.5) (1.4.1)\n",
            "Requirement already satisfied, skipping upgrade: imgaug<0.2.7,>=0.2.5 in /usr/local/lib/python3.6/dist-packages (from albumentations==0.4.5) (0.2.6)\n",
            "Requirement already satisfied, skipping upgrade: PyYAML in /usr/local/lib/python3.6/dist-packages (from albumentations==0.4.5) (3.13)\n",
            "Requirement already satisfied, skipping upgrade: opencv-python>=4.1.1 in /usr/local/lib/python3.6/dist-packages (from albumentations==0.4.5) (4.1.2.30)\n",
            "Requirement already satisfied, skipping upgrade: scikit-image>=0.11.0 in /usr/local/lib/python3.6/dist-packages (from imgaug<0.2.7,>=0.2.5->albumentations==0.4.5) (0.16.2)\n",
            "Requirement already satisfied, skipping upgrade: six in /usr/local/lib/python3.6/dist-packages (from imgaug<0.2.7,>=0.2.5->albumentations==0.4.5) (1.12.0)\n",
            "Requirement already satisfied, skipping upgrade: networkx>=2.0 in /usr/local/lib/python3.6/dist-packages (from scikit-image>=0.11.0->imgaug<0.2.7,>=0.2.5->albumentations==0.4.5) (2.4)\n",
            "Requirement already satisfied, skipping upgrade: pillow>=4.3.0 in /usr/local/lib/python3.6/dist-packages (from scikit-image>=0.11.0->imgaug<0.2.7,>=0.2.5->albumentations==0.4.5) (6.2.2)\n",
            "Requirement already satisfied, skipping upgrade: matplotlib!=3.0.0,>=2.0.0 in /usr/local/lib/python3.6/dist-packages (from scikit-image>=0.11.0->imgaug<0.2.7,>=0.2.5->albumentations==0.4.5) (3.1.3)\n",
            "Requirement already satisfied, skipping upgrade: imageio>=2.3.0 in /usr/local/lib/python3.6/dist-packages (from scikit-image>=0.11.0->imgaug<0.2.7,>=0.2.5->albumentations==0.4.5) (2.4.1)\n",
            "Requirement already satisfied, skipping upgrade: PyWavelets>=0.4.0 in /usr/local/lib/python3.6/dist-packages (from scikit-image>=0.11.0->imgaug<0.2.7,>=0.2.5->albumentations==0.4.5) (1.1.1)\n",
            "Requirement already satisfied, skipping upgrade: decorator>=4.3.0 in /usr/local/lib/python3.6/dist-packages (from networkx>=2.0->scikit-image>=0.11.0->imgaug<0.2.7,>=0.2.5->albumentations==0.4.5) (4.4.1)\n",
            "Requirement already satisfied, skipping upgrade: cycler>=0.10 in /usr/local/lib/python3.6/dist-packages (from matplotlib!=3.0.0,>=2.0.0->scikit-image>=0.11.0->imgaug<0.2.7,>=0.2.5->albumentations==0.4.5) (0.10.0)\n",
            "Requirement already satisfied, skipping upgrade: kiwisolver>=1.0.1 in /usr/local/lib/python3.6/dist-packages (from matplotlib!=3.0.0,>=2.0.0->scikit-image>=0.11.0->imgaug<0.2.7,>=0.2.5->albumentations==0.4.5) (1.1.0)\n",
            "Requirement already satisfied, skipping upgrade: python-dateutil>=2.1 in /usr/local/lib/python3.6/dist-packages (from matplotlib!=3.0.0,>=2.0.0->scikit-image>=0.11.0->imgaug<0.2.7,>=0.2.5->albumentations==0.4.5) (2.6.1)\n",
            "Requirement already satisfied, skipping upgrade: pyparsing!=2.0.4,!=2.1.2,!=2.1.6,>=2.0.1 in /usr/local/lib/python3.6/dist-packages (from matplotlib!=3.0.0,>=2.0.0->scikit-image>=0.11.0->imgaug<0.2.7,>=0.2.5->albumentations==0.4.5) (2.4.6)\n",
            "Requirement already satisfied, skipping upgrade: setuptools in /usr/local/lib/python3.6/dist-packages (from kiwisolver>=1.0.1->matplotlib!=3.0.0,>=2.0.0->scikit-image>=0.11.0->imgaug<0.2.7,>=0.2.5->albumentations==0.4.5) (45.2.0)\n",
            "Building wheels for collected packages: albumentations\n",
            "  Building wheel for albumentations (setup.py) ... \u001b[?25l\u001b[?25hdone\n",
            "  Created wheel for albumentations: filename=albumentations-0.4.5-cp36-none-any.whl size=64514 sha256=db8a614eaed9f31467317983e95be143817e726dbd9daba1fade9c511669af3a\n",
            "  Stored in directory: /tmp/pip-ephem-wheel-cache-2obdstnq/wheels/45/8b/e4/2837bbcf517d00732b8e394f8646f22b8723ac00993230188b\n",
            "Successfully built albumentations\n",
            "Installing collected packages: albumentations\n",
            "  Found existing installation: albumentations 0.4.5\n",
            "    Uninstalling albumentations-0.4.5:\n",
            "      Successfully uninstalled albumentations-0.4.5\n",
            "Successfully installed albumentations-0.4.5\n"
          ],
          "name": "stdout"
        }
      ]
    },
    {
      "cell_type": "code",
      "metadata": {
        "id": "u7HkockSqqMe",
        "colab_type": "code",
        "colab": {
          "base_uri": "https://localhost:8080/",
          "height": 34
        },
        "outputId": "88d659d0-f61d-484c-a7a5-3d3ea76e3192"
      },
      "source": [
        "!pip install --upgrade pyforest"
      ],
      "execution_count": 18,
      "outputs": [
        {
          "output_type": "stream",
          "text": [
            "Requirement already up-to-date: pyforest in /usr/local/lib/python3.6/dist-packages (1.0.2)\n"
          ],
          "name": "stdout"
        }
      ]
    },
    {
      "cell_type": "code",
      "metadata": {
        "id": "8xUymEZyqufL",
        "colab_type": "code",
        "colab": {
          "base_uri": "https://localhost:8080/",
          "height": 218
        },
        "outputId": "0cb338de-2242-46ba-eee3-13c90d85faf0"
      },
      "source": [
        "!python -m pyforest install_extensions"
      ],
      "execution_count": 19,
      "outputs": [
        {
          "output_type": "stream",
          "text": [
            "Starting to install pyforest extensions for Jupyter Notebook and Jupyter Lab\n",
            "\n",
            "Trying to install pyforest nbextension...\n",
            "\n",
            "Finished installing the pyforest Jupyter Notebook nbextension\n",
            "Please reload your Jupyter notebook browser window\n",
            "\n",
            "Trying to install pyforest labextension...\n",
            "Could not install pyforest Jupyter Lab extension because Jupyter Lab is not available\n",
            "\n",
            "Finished installing the pyforest Jupyter extensions\n",
            "Please reload your Jupyter notebook and/or Jupyter lab browser windows\n"
          ],
          "name": "stdout"
        }
      ]
    },
    {
      "cell_type": "markdown",
      "metadata": {
        "id": "meia7p02UJE8",
        "colab_type": "text"
      },
      "source": [
        "#### WANDB client login"
      ]
    },
    {
      "cell_type": "code",
      "metadata": {
        "id": "Hi9SBc2TKUF3",
        "colab_type": "code",
        "outputId": "76593907-5d9b-4073-cb33-a1051ba590eb",
        "colab": {
          "base_uri": "https://localhost:8080/",
          "height": 50
        }
      },
      "source": [
        "!wandb login a6f947d2d2f69e7a8c8ca0f69811fd554f27d204"
      ],
      "execution_count": 20,
      "outputs": [
        {
          "output_type": "stream",
          "text": [
            "\u001b[34m\u001b[1mwandb\u001b[0m: Appending key for api.wandb.ai to your netrc file: /root/.netrc\n",
            "\u001b[32mSuccessfully logged in to Weights & Biases!\u001b[0m\n"
          ],
          "name": "stdout"
        }
      ]
    },
    {
      "cell_type": "code",
      "metadata": {
        "id": "yFb9EtN4KdDD",
        "colab_type": "code",
        "colab": {}
      },
      "source": [
        "sys.path.append('/content/drive/My Drive/EVA4/')\n",
        "sys.path.append('/content/drive/My Drive/EVA4/RekogNizer')"
      ],
      "execution_count": 0,
      "outputs": []
    },
    {
      "cell_type": "code",
      "metadata": {
        "id": "3OfqGcVevk70",
        "colab_type": "code",
        "colab": {}
      },
      "source": [
        "#!cp /content/drive/My\\ Drive/EVA4/RekogNizer/train_s8_new.py /content/drive/My\\ Drive/EVA4/RekogNizer/train_s9_new.py"
      ],
      "execution_count": 0,
      "outputs": []
    },
    {
      "cell_type": "markdown",
      "metadata": {
        "id": "VaRJ9X1FVHxH",
        "colab_type": "text"
      },
      "source": [
        "train_s8_new.py currently can take JSON formatted string as input. Following parameters are configurable and are used in the model training and execution.\n",
        "```\n",
        "{\"project\": \"news5\", \n",
        " \"sched_lr_gamma\": 0.5, \n",
        " \"no_cuda\": false, \n",
        " \"dropout\": 0.1, \n",
        " \"test_batch_size\": 128, \n",
        " \"batch_size\": 128, \n",
        " \"epochs\": 45, \n",
        " \"bias\": false, \n",
        " \"lr\": 0.001, \n",
        " \"start_lr\": 0, \n",
        " \"sched_lr_step\": 1, \n",
        " \"weight_decay\": 0.0, \n",
        " \"seed\": 1, \n",
        " \"momentum\": 0.9}\n",
        "\n",
        "```\n"
      ]
    },
    {
      "cell_type": "code",
      "metadata": {
        "id": "0aH1Wv9URaEx",
        "colab_type": "code",
        "outputId": "db010d01-f5a3-42ef-adf4-9890fab750f6",
        "colab": {
          "base_uri": "https://localhost:8080/",
          "height": 1000
        }
      },
      "source": [
        "!python /content/drive/My\\ Drive/EVA4/RekogNizer/train_s9_new.py -p '{\"lr\":0.21694816106338752,\"dropout\":0.1, \"momentum\":0.7062620648684866, \"epochs\":30, \"weight_decay\":0.00015753761358641488}'"
      ],
      "execution_count": 22,
      "outputs": [
        {
          "output_type": "stream",
          "text": [
            "Setting  lr  =  0.21694816106338752\n",
            "Setting  dropout  =  0.1\n",
            "Setting  momentum  =  0.7062620648684866\n",
            "Setting  epochs  =  30\n",
            "Setting  weight_decay  =  0.00015753761358641488\n",
            "Final Hyperparameters\n",
            "             dropout : 0.1 \n",
            "          batch_size : 128 \n",
            "     test_batch_size : 128 \n",
            "                  lr : 0.21694816106338752 \n",
            "            momentum : 0.7062620648684866 \n",
            "             no_cuda : False \n",
            "                seed : 1 \n",
            "              epochs : 30 \n",
            "                bias : False \n",
            "      sched_lr_gamma : 0.5 \n",
            "       sched_lr_step : 1 \n",
            "            start_lr : 0 \n",
            "        weight_decay : 0.00015753761358641488 \n",
            "             project : news5 \n",
            "Initializing datasets and dataloaders\n",
            "Files already downloaded and verified\n",
            "Files already downloaded and verified\n",
            "\u001b[34m\u001b[1mwandb\u001b[0m: Tracking run with wandb version 0.8.29\n",
            "\u001b[34m\u001b[1mwandb\u001b[0m: Run data is saved locally in wandb/run-20200315_113512-2idg4amp\n",
            "\u001b[34m\u001b[1mwandb\u001b[0m: Syncing run \u001b[33mpeach-pine-812\u001b[0m\n",
            "\u001b[34m\u001b[1mwandb\u001b[0m: ⭐️ View project at \u001b[34m\u001b[4mhttps://app.wandb.ai/rajy4683/news5\u001b[0m\n",
            "\u001b[34m\u001b[1mwandb\u001b[0m: 🚀 View run at \u001b[34m\u001b[4mhttps://app.wandb.ai/rajy4683/news5/runs/2idg4amp\u001b[0m\n",
            "\u001b[34m\u001b[1mwandb\u001b[0m: Run `wandb off` to turn off syncing.\n",
            "\n",
            "Model saved to:  /content/drive/My Drive/EVA4/model_saves/model-22e022c81d.h5\n",
            "Hyper Params:\n",
            "wandb_version: 1\n",
            "\n",
            "_wandb:\n",
            "  desc: null\n",
            "  value:\n",
            "    cli_version: 0.8.29\n",
            "    code_path: code/drive/My Drive/EVA4/RekogNizer/train_s9_new.py\n",
            "    framework: torch\n",
            "    is_jupyter_run: false\n",
            "    python_version: 3.6.9\n",
            "batch_size:\n",
            "  desc: null\n",
            "  value: 128\n",
            "bias:\n",
            "  desc: null\n",
            "  value: false\n",
            "dropout:\n",
            "  desc: null\n",
            "  value: 0.1\n",
            "epochs:\n",
            "  desc: null\n",
            "  value: 30\n",
            "lr:\n",
            "  desc: null\n",
            "  value: 0.21694816106338752\n",
            "momentum:\n",
            "  desc: null\n",
            "  value: 0.7062620648684866\n",
            "no_cuda:\n",
            "  desc: null\n",
            "  value: false\n",
            "project:\n",
            "  desc: null\n",
            "  value: news5\n",
            "run_name:\n",
            "  desc: null\n",
            "  value: 22e022c81d\n",
            "sched_lr_gamma:\n",
            "  desc: null\n",
            "  value: 0.5\n",
            "sched_lr_step:\n",
            "  desc: null\n",
            "  value: 1\n",
            "seed:\n",
            "  desc: null\n",
            "  value: 1\n",
            "start_lr:\n",
            "  desc: null\n",
            "  value: 0\n",
            "test_batch_size:\n",
            "  desc: null\n",
            "  value: 128\n",
            "weight_decay:\n",
            "  desc: null\n",
            "  value: 0.00015753761358641488\n",
            "\n",
            "----------------------------------------------------------------\n",
            "        Layer (type)               Output Shape         Param #\n",
            "================================================================\n",
            "            Conv2d-1           [-1, 64, 32, 32]           1,728\n",
            "       BatchNorm2d-2           [-1, 64, 32, 32]             128\n",
            "            Conv2d-3           [-1, 64, 32, 32]          36,864\n",
            "       BatchNorm2d-4           [-1, 64, 32, 32]             128\n",
            "           Dropout-5           [-1, 64, 32, 32]               0\n",
            "            Conv2d-6           [-1, 64, 32, 32]          36,864\n",
            "       BatchNorm2d-7           [-1, 64, 32, 32]             128\n",
            "           Dropout-8           [-1, 64, 32, 32]               0\n",
            "        BasicBlock-9           [-1, 64, 32, 32]               0\n",
            "           Conv2d-10           [-1, 64, 32, 32]          36,864\n",
            "      BatchNorm2d-11           [-1, 64, 32, 32]             128\n",
            "          Dropout-12           [-1, 64, 32, 32]               0\n",
            "           Conv2d-13           [-1, 64, 32, 32]          36,864\n",
            "      BatchNorm2d-14           [-1, 64, 32, 32]             128\n",
            "          Dropout-15           [-1, 64, 32, 32]               0\n",
            "       BasicBlock-16           [-1, 64, 32, 32]               0\n",
            "           Conv2d-17          [-1, 128, 16, 16]          73,728\n",
            "      BatchNorm2d-18          [-1, 128, 16, 16]             256\n",
            "          Dropout-19          [-1, 128, 16, 16]               0\n",
            "           Conv2d-20          [-1, 128, 16, 16]         147,456\n",
            "      BatchNorm2d-21          [-1, 128, 16, 16]             256\n",
            "          Dropout-22          [-1, 128, 16, 16]               0\n",
            "           Conv2d-23          [-1, 128, 16, 16]           8,192\n",
            "      BatchNorm2d-24          [-1, 128, 16, 16]             256\n",
            "       BasicBlock-25          [-1, 128, 16, 16]               0\n",
            "           Conv2d-26          [-1, 128, 16, 16]         147,456\n",
            "      BatchNorm2d-27          [-1, 128, 16, 16]             256\n",
            "          Dropout-28          [-1, 128, 16, 16]               0\n",
            "           Conv2d-29          [-1, 128, 16, 16]         147,456\n",
            "      BatchNorm2d-30          [-1, 128, 16, 16]             256\n",
            "          Dropout-31          [-1, 128, 16, 16]               0\n",
            "       BasicBlock-32          [-1, 128, 16, 16]               0\n",
            "           Conv2d-33            [-1, 256, 8, 8]         294,912\n",
            "      BatchNorm2d-34            [-1, 256, 8, 8]             512\n",
            "          Dropout-35            [-1, 256, 8, 8]               0\n",
            "           Conv2d-36            [-1, 256, 8, 8]         589,824\n",
            "      BatchNorm2d-37            [-1, 256, 8, 8]             512\n",
            "          Dropout-38            [-1, 256, 8, 8]               0\n",
            "           Conv2d-39            [-1, 256, 8, 8]          32,768\n",
            "      BatchNorm2d-40            [-1, 256, 8, 8]             512\n",
            "       BasicBlock-41            [-1, 256, 8, 8]               0\n",
            "           Conv2d-42            [-1, 256, 8, 8]         589,824\n",
            "      BatchNorm2d-43            [-1, 256, 8, 8]             512\n",
            "          Dropout-44            [-1, 256, 8, 8]               0\n",
            "           Conv2d-45            [-1, 256, 8, 8]         589,824\n",
            "      BatchNorm2d-46            [-1, 256, 8, 8]             512\n",
            "          Dropout-47            [-1, 256, 8, 8]               0\n",
            "       BasicBlock-48            [-1, 256, 8, 8]               0\n",
            "           Conv2d-49            [-1, 512, 4, 4]       1,179,648\n",
            "      BatchNorm2d-50            [-1, 512, 4, 4]           1,024\n",
            "          Dropout-51            [-1, 512, 4, 4]               0\n",
            "           Conv2d-52            [-1, 512, 4, 4]       2,359,296\n",
            "      BatchNorm2d-53            [-1, 512, 4, 4]           1,024\n",
            "          Dropout-54            [-1, 512, 4, 4]               0\n",
            "           Conv2d-55            [-1, 512, 4, 4]         131,072\n",
            "      BatchNorm2d-56            [-1, 512, 4, 4]           1,024\n",
            "       BasicBlock-57            [-1, 512, 4, 4]               0\n",
            "           Conv2d-58            [-1, 512, 4, 4]       2,359,296\n",
            "      BatchNorm2d-59            [-1, 512, 4, 4]           1,024\n",
            "          Dropout-60            [-1, 512, 4, 4]               0\n",
            "           Conv2d-61            [-1, 512, 4, 4]       2,359,296\n",
            "      BatchNorm2d-62            [-1, 512, 4, 4]           1,024\n",
            "          Dropout-63            [-1, 512, 4, 4]               0\n",
            "       BasicBlock-64            [-1, 512, 4, 4]               0\n",
            "           Linear-65                   [-1, 10]           5,130\n",
            "================================================================\n",
            "Total params: 11,173,962\n",
            "Trainable params: 11,173,962\n",
            "Non-trainable params: 0\n",
            "----------------------------------------------------------------\n",
            "Input size (MB): 0.01\n",
            "Forward/backward pass size (MB): 15.00\n",
            "Params size (MB): 42.63\n",
            "Estimated Total Size (MB): 57.64\n",
            "----------------------------------------------------------------\n",
            "loss=1.1610277891159058 batch_id=390: 100%|███| 391/391 [02:57<00:00,  2.47it/s]\n",
            "\n",
            "Epoch: 1 Train set: Average loss: 0.0127, Accuracy: 40.286%\n",
            "Epoch: 1 Test set: Average loss: 2.3272, Accuracy: 41.540%\n",
            "Model saved as Test Accuracy increased from  0.0  to  41.54\n",
            "loss=0.7910763025283813 batch_id=390: 100%|███| 391/391 [02:57<00:00,  2.49it/s]\n",
            "\n",
            "Epoch: 2 Train set: Average loss: 0.0087, Accuracy: 60.716%\n",
            "Epoch: 2 Test set: Average loss: 1.1610, Accuracy: 64.950%\n",
            "Model saved as Test Accuracy increased from  41.54  to  64.95\n",
            "loss=0.6736077070236206 batch_id=390: 100%|███| 391/391 [02:57<00:00,  2.49it/s]\n",
            "\n",
            "Epoch: 3 Train set: Average loss: 0.0067, Accuracy: 70.198%\n",
            "Epoch: 3 Test set: Average loss: 0.7584, Accuracy: 74.070%\n",
            "Model saved as Test Accuracy increased from  64.95  to  74.07\n",
            "loss=0.7524433135986328 batch_id=390: 100%|███| 391/391 [02:57<00:00,  2.41it/s]\n",
            "\n",
            "Epoch: 4 Train set: Average loss: 0.0055, Accuracy: 75.144%\n",
            "Epoch: 4 Test set: Average loss: 0.9101, Accuracy: 70.970%\n",
            "loss=0.6925329566001892 batch_id=390: 100%|███| 391/391 [02:57<00:00,  2.49it/s]\n",
            "\n",
            "Epoch: 5 Train set: Average loss: 0.0048, Accuracy: 78.766%\n",
            "Epoch: 5 Test set: Average loss: 0.6389, Accuracy: 78.030%\n",
            "Model saved as Test Accuracy increased from  74.07  to  78.03\n",
            "loss=0.5206138491630554 batch_id=390: 100%|███| 391/391 [02:56<00:00,  2.50it/s]\n",
            "\n",
            "Epoch: 6 Train set: Average loss: 0.0041, Accuracy: 81.608%\n",
            "Epoch: 6 Test set: Average loss: 0.5959, Accuracy: 80.360%\n",
            "Model saved as Test Accuracy increased from  78.03  to  80.36\n",
            "loss=0.5710397958755493 batch_id=390: 100%|███| 391/391 [02:56<00:00,  2.51it/s]\n",
            "\n",
            "Epoch: 7 Train set: Average loss: 0.0034, Accuracy: 84.662%\n",
            "Epoch: 7 Test set: Average loss: 0.4668, Accuracy: 84.220%\n",
            "Model saved as Test Accuracy increased from  80.36  to  84.22\n",
            "loss=0.3347136080265045 batch_id=390: 100%|███| 391/391 [02:56<00:00,  2.50it/s]\n",
            "\n",
            "Epoch: 8 Train set: Average loss: 0.0028, Accuracy: 87.352%\n",
            "Epoch: 8 Test set: Average loss: 0.5228, Accuracy: 83.240%\n",
            "loss=0.15573890507221222 batch_id=390: 100%|██| 391/391 [02:56<00:00,  2.49it/s]\n",
            "\n",
            "Epoch: 9 Train set: Average loss: 0.0022, Accuracy: 90.222%\n",
            "Epoch: 9 Test set: Average loss: 0.4355, Accuracy: 85.930%\n",
            "Model saved as Test Accuracy increased from  84.22  to  85.93\n",
            "loss=0.09348075091838837 batch_id=390: 100%|██| 391/391 [02:56<00:00,  2.49it/s]\n",
            "\n",
            "Epoch: 10 Train set: Average loss: 0.0014, Accuracy: 93.570%\n",
            "Epoch: 10 Test set: Average loss: 0.4033, Accuracy: 87.650%\n",
            "Model saved as Test Accuracy increased from  85.93  to  87.65\n",
            "loss=0.1259964257478714 batch_id=390: 100%|███| 391/391 [02:55<00:00,  2.50it/s]\n",
            "\n",
            "Epoch: 11 Train set: Average loss: 0.0009, Accuracy: 95.908%\n",
            "Epoch: 11 Test set: Average loss: 0.4646, Accuracy: 86.490%\n",
            "loss=0.3130502700805664 batch_id=390: 100%|███| 391/391 [02:54<00:00,  2.52it/s]\n",
            "\n",
            "Epoch: 12 Train set: Average loss: 0.0015, Accuracy: 93.248%\n",
            "Epoch: 12 Test set: Average loss: 0.5231, Accuracy: 84.120%\n",
            "loss=0.3226394057273865 batch_id=390: 100%|███| 391/391 [02:55<00:00,  2.52it/s]\n",
            "\n",
            "Epoch: 13 Train set: Average loss: 0.0020, Accuracy: 90.932%\n",
            "Epoch: 13 Test set: Average loss: 0.6742, Accuracy: 81.110%\n",
            "loss=0.28857454657554626 batch_id=390: 100%|██| 391/391 [02:54<00:00,  2.43it/s]\n",
            "\n",
            "Epoch: 14 Train set: Average loss: 0.0022, Accuracy: 90.114%\n",
            "Epoch: 14 Test set: Average loss: 0.5846, Accuracy: 82.560%\n",
            "loss=0.4028695523738861 batch_id=390: 100%|███| 391/391 [02:55<00:00,  2.52it/s]\n",
            "\n",
            "Epoch: 15 Train set: Average loss: 0.0023, Accuracy: 89.768%\n",
            "Epoch: 15 Test set: Average loss: 0.6349, Accuracy: 80.850%\n",
            "loss=0.22646299004554749 batch_id=390: 100%|██| 391/391 [02:54<00:00,  2.53it/s]\n",
            "\n",
            "Epoch: 16 Train set: Average loss: 0.0021, Accuracy: 90.396%\n",
            "Epoch: 16 Test set: Average loss: 0.5393, Accuracy: 82.870%\n",
            "loss=0.490405410528183 batch_id=390: 100%|████| 391/391 [02:54<00:00,  2.52it/s]\n",
            "\n",
            "Epoch: 17 Train set: Average loss: 0.0017, Accuracy: 92.216%\n",
            "Epoch: 17 Test set: Average loss: 0.5476, Accuracy: 84.150%\n",
            "loss=0.18500961363315582 batch_id=390: 100%|██| 391/391 [02:54<00:00,  2.52it/s]\n",
            "\n",
            "Epoch: 18 Train set: Average loss: 0.0014, Accuracy: 93.836%\n",
            "Epoch: 18 Test set: Average loss: 0.4845, Accuracy: 85.520%\n",
            "loss=0.09897764027118683 batch_id=390: 100%|██| 391/391 [02:54<00:00,  2.52it/s]\n",
            "\n",
            "Epoch: 19 Train set: Average loss: 0.0009, Accuracy: 96.092%\n",
            "Epoch: 19 Test set: Average loss: 0.4950, Accuracy: 86.750%\n",
            "loss=0.03762451559305191 batch_id=390: 100%|██| 391/391 [02:54<00:00,  2.53it/s]\n",
            "\n",
            "Epoch: 20 Train set: Average loss: 0.0005, Accuracy: 97.912%\n",
            "Epoch: 20 Test set: Average loss: 0.4442, Accuracy: 88.250%\n",
            "Model saved as Test Accuracy increased from  87.65  to  88.25\n",
            "loss=0.013696098700165749 batch_id=390: 100%|█| 391/391 [02:54<00:00,  2.52it/s]\n",
            "\n",
            "Epoch: 21 Train set: Average loss: 0.0002, Accuracy: 99.032%\n",
            "Epoch: 21 Test set: Average loss: 0.4401, Accuracy: 88.620%\n",
            "Model saved as Test Accuracy increased from  88.25  to  88.62\n",
            "loss=0.04591221734881401 batch_id=390: 100%|██| 391/391 [02:54<00:00,  2.50it/s]\n",
            "\n",
            "Epoch: 22 Train set: Average loss: 0.0003, Accuracy: 98.588%\n",
            "Epoch: 22 Test set: Average loss: 0.4989, Accuracy: 87.210%\n",
            "loss=0.34326472878456116 batch_id=390: 100%|██| 391/391 [02:54<00:00,  2.52it/s]\n",
            "\n",
            "Epoch: 23 Train set: Average loss: 0.0008, Accuracy: 96.468%\n",
            "Epoch: 23 Test set: Average loss: 0.5911, Accuracy: 84.810%\n",
            "loss=0.21655888855457306 batch_id=390: 100%|██| 391/391 [02:54<00:00,  2.44it/s]\n",
            "\n",
            "Epoch: 24 Train set: Average loss: 0.0014, Accuracy: 93.884%\n",
            "Epoch: 24 Test set: Average loss: 0.5927, Accuracy: 84.280%\n",
            "loss=0.3098883032798767 batch_id=390: 100%|███| 391/391 [02:54<00:00,  2.54it/s]\n",
            "\n",
            "Epoch: 25 Train set: Average loss: 0.0016, Accuracy: 92.760%\n",
            "Epoch: 25 Test set: Average loss: 0.5974, Accuracy: 82.850%\n",
            "loss=0.2769676744937897 batch_id=390: 100%|███| 391/391 [02:53<00:00,  2.54it/s]\n",
            "\n",
            "Epoch: 26 Train set: Average loss: 0.0016, Accuracy: 92.788%\n",
            "Epoch: 26 Test set: Average loss: 0.5472, Accuracy: 83.390%\n",
            "loss=0.32212454080581665 batch_id=390: 100%|██| 391/391 [02:54<00:00,  2.51it/s]\n",
            "\n",
            "Epoch: 27 Train set: Average loss: 0.0014, Accuracy: 93.648%\n",
            "Epoch: 27 Test set: Average loss: 0.5205, Accuracy: 84.970%\n",
            "loss=0.07605787366628647 batch_id=390: 100%|██| 391/391 [02:55<00:00,  2.51it/s]\n",
            "\n",
            "Epoch: 28 Train set: Average loss: 0.0011, Accuracy: 95.402%\n",
            "Epoch: 28 Test set: Average loss: 0.5583, Accuracy: 84.230%\n",
            "loss=0.05835992097854614 batch_id=390: 100%|██| 391/391 [02:55<00:00,  2.51it/s]\n",
            "\n",
            "Epoch: 29 Train set: Average loss: 0.0007, Accuracy: 97.044%\n",
            "Epoch: 29 Test set: Average loss: 0.5181, Accuracy: 86.080%\n",
            "loss=0.09847395122051239 batch_id=390: 100%|██| 391/391 [02:55<00:00,  2.51it/s]\n",
            "\n",
            "Epoch: 30 Train set: Average loss: 0.0004, Accuracy: 98.396%\n",
            "Epoch: 30 Test set: Average loss: 0.4502, Accuracy: 88.190%\n",
            "Final model save path: /content/drive/My Drive/EVA4/model_saves/model-22e022c81d.h5  best Accuracy: 88.62\n",
            "\n",
            "\u001b[34m\u001b[1mwandb\u001b[0m: Waiting for W&B process to finish, PID 2236\n",
            "\u001b[34m\u001b[1mwandb\u001b[0m: Program ended successfully.\n",
            "\u001b[34m\u001b[1mwandb\u001b[0m: Run summary:\n",
            "\u001b[34m\u001b[1mwandb\u001b[0m:                           Test Accuracy 88.19\n",
            "\u001b[34m\u001b[1mwandb\u001b[0m:                              Train Loss 0.00039125752210617063\n",
            "\u001b[34m\u001b[1mwandb\u001b[0m:                          Train Accuracy 98.396\n",
            "\u001b[34m\u001b[1mwandb\u001b[0m:                              _timestamp 1584277707.9521527\n",
            "\u001b[34m\u001b[1mwandb\u001b[0m:                                _runtime 5598.219172000885\n",
            "\u001b[34m\u001b[1mwandb\u001b[0m:                               Test Loss 0.4502292549133301\n",
            "\u001b[34m\u001b[1mwandb\u001b[0m:                                   _step 29\n",
            "\u001b[34m\u001b[1mwandb\u001b[0m: Syncing files in wandb/run-20200315_113512-2idg4amp:\n",
            "\u001b[34m\u001b[1mwandb\u001b[0m:   code/drive/My Drive/EVA4/RekogNizer/train_s9_new.py\n",
            "\u001b[34m\u001b[1mwandb\u001b[0m: plus 7 W&B file(s) and 1 media file(s)\n",
            "\u001b[34m\u001b[1mwandb\u001b[0m:                                                                                \n",
            "\u001b[34m\u001b[1mwandb\u001b[0m: Synced peach-pine-812: https://app.wandb.ai/rajy4683/news5/runs/2idg4amp\n"
          ],
          "name": "stdout"
        }
      ]
    },
    {
      "cell_type": "markdown",
      "metadata": {
        "id": "suHu8s6BWWjM",
        "colab_type": "text"
      },
      "source": [
        "#### The APIs for inferencing and plotting are moved out of the training script.\n"
      ]
    },
    {
      "cell_type": "code",
      "metadata": {
        "id": "co-iSigIVfGR",
        "colab_type": "code",
        "colab": {}
      },
      "source": [
        "from RekogNizer import traintest\n",
        "from RekogNizer import logger\n",
        "from RekogNizer import fileutils\n",
        "from RekogNizer import basemodelclass\n",
        "from RekogNizer import dataloader\n",
        "\n",
        "import pandas as pd\n",
        "import numpy as np\n",
        "import torch"
      ],
      "execution_count": 0,
      "outputs": []
    },
    {
      "cell_type": "code",
      "metadata": {
        "id": "YC4AjqUhU3mh",
        "colab_type": "code",
        "outputId": "0bebfb15-52fe-4089-e132-5160047ed8ac",
        "colab": {
          "base_uri": "https://localhost:8080/",
          "height": 759
        }
      },
      "source": [
        "run_list = ['rajy4683/news5/runs/2idg4amp']\n",
        "runs_df = logger.get_wandb_dataframes(run_list=run_list)#(project=\"rajy4683/news5\",count=1)\n",
        "new_df = pd.DataFrame().append(runs_df)\n",
        "\n",
        "\n",
        "fileutils.plot_graphs([new_df],\n",
        "            ['Train Accuracy', 'Test Accuracy'],\n",
        "            columns=['Train Accuracy', 'Test Accuracy'],\n",
        "            xlabel=\"Epochs\",\n",
        "            ylabel=\"Accuracy\")\n",
        "\n",
        "fileutils.plot_graphs([new_df],\n",
        "            ['Train Loss', 'Test Loss'],\n",
        "            columns=['Train Loss', 'Test Loss'],\n",
        "            xlabel=\"Epochs\",\n",
        "            ylabel=\"Loss\")"
      ],
      "execution_count": 24,
      "outputs": [
        {
          "output_type": "display_data",
          "data": {
            "image/png": "[encoded data removed]",
            "text/plain": [
              "<Figure size 1080x432 with 1 Axes>"
            ]
          },
          "metadata": {
            "tags": []
          }
        },
        {
          "output_type": "display_data",
          "data": {
            "image/png": "[encoded data removed]",
            "text/plain": [
              "<Figure size 1080x432 with 1 Axes>"
            ]
          },
          "metadata": {
            "tags": []
          }
        }
      ]
    },
    {
      "cell_type": "code",
      "metadata": {
        "id": "Co8YWVekVDiD",
        "colab_type": "code",
        "outputId": "c7be28d6-0d05-415b-da9c-9ce91fd54723",
        "colab": {
          "base_uri": "https://localhost:8080/",
          "height": 50
        }
      },
      "source": [
        "%load_ext autoreload\n",
        "%autoreload 2\n",
        "from RekogNizer import traintest\n",
        "import torchvision.transforms as transforms\n",
        "import torchvision\n",
        "\n",
        "my_model,acc = traintest.model_builder2(basemodelclass.ResNet18(), weights_path=\"/content/drive/My Drive/EVA4/model_saves/model-22e022c81d.h5\")\n",
        "#class_accuracy_dict = traintest.classwise_accuracy(my_model, testloader, classes, device=torch.device(\"cpu\"))"
      ],
      "execution_count": 27,
      "outputs": [
        {
          "output_type": "stream",
          "text": [
            "The autoreload extension is already loaded. To reload it, use:\n",
            "  %reload_ext autoreload\n"
          ],
          "name": "stdout"
        }
      ]
    },
    {
      "cell_type": "code",
      "metadata": {
        "id": "EQByYvn1OOBz",
        "colab_type": "code",
        "outputId": "53bc4d0c-5c17-4a8e-9bf1-0d69f8b4fd3d",
        "colab": {
          "base_uri": "https://localhost:8080/",
          "height": 202
        }
      },
      "source": [
        "from RekogNizer import hyperparams\n",
        "transform_test = transforms.Compose(\n",
        "    [transforms.ToTensor(),\n",
        "    transforms.Normalize((0.5, 0.5, 0.5), (0.5, 0.5, 0.5))])\n",
        "testset = torchvision.datasets.CIFAR10(root='./data', train=False,\n",
        "                                    download=True, transform=transform_test)\n",
        "testloader = dataloader.get_dataloader(testset, hyperparams.hyperparameter_defaults['batch_size'], shuffle=False, num_workers=2)\n",
        "class_accuracy_dict = traintest.classwise_accuracy(my_model, testloader, dataloader.classes, device=torch.device(\"cuda\"))"
      ],
      "execution_count": 28,
      "outputs": [
        {
          "output_type": "stream",
          "text": [
            "Files already downloaded and verified\n",
            "Accuracy of plane : 87 %\n",
            "Accuracy of   car : 94 %\n",
            "Accuracy of  bird : 78 %\n",
            "Accuracy of   cat : 74 %\n",
            "Accuracy of  deer : 87 %\n",
            "Accuracy of   dog : 82 %\n",
            "Accuracy of  frog : 90 %\n",
            "Accuracy of horse : 90 %\n",
            "Accuracy of  ship : 94 %\n",
            "Accuracy of truck : 89 %\n"
          ],
          "name": "stdout"
        }
      ]
    },
    {
      "cell_type": "code",
      "metadata": {
        "id": "lbctloPgVlQ_",
        "colab_type": "code",
        "outputId": "789f6d79-2142-47b3-f1cd-6ce4b33cd7ad",
        "colab": {
          "base_uri": "https://localhost:8080/",
          "height": 282
        }
      },
      "source": [
        "%matplotlib inline\n",
        "import matplotlib.pyplot as plt\n",
        "\n",
        "plt.bar([key for key in class_accuracy_dict.keys()],[val for val in class_accuracy_dict.values()])"
      ],
      "execution_count": 29,
      "outputs": [
        {
          "output_type": "execute_result",
          "data": {
            "text/plain": [
              "<BarContainer object of 10 artists>"
            ]
          },
          "metadata": {
            "tags": []
          },
          "execution_count": 29
        },
        {
          "output_type": "display_data",
          "data": {
            "image/png": "[encoded data removed]",
            "text/plain": [
              "<Figure size 432x288 with 1 Axes>"
            ]
          },
          "metadata": {
            "tags": []
          }
        }
      ]
    },
    {
      "cell_type": "code",
      "metadata": {
        "id": "VCg6h5IFWtDw",
        "colab_type": "code",
        "colab": {}
      },
      "source": [
        ""
      ],
      "execution_count": 0,
      "outputs": []
    }
  ]
}